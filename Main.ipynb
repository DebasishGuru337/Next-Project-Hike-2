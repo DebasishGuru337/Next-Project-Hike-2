{
 "cells": [
  {
   "cell_type": "code",
   "execution_count": 81,
   "metadata": {},
   "outputs": [],
   "source": [
    "# Task 1: Data Acquisition and Data Wrangling on dataset 1 and dataset 2"
   ]
  },
  {
   "cell_type": "code",
   "execution_count": 82,
   "metadata": {},
   "outputs": [],
   "source": [
    "# Data Acquisition on dataset1"
   ]
  },
  {
   "cell_type": "code",
   "execution_count": 140,
   "metadata": {},
   "outputs": [
    {
     "data": {
      "text/html": [
       "<div>\n",
       "<style scoped>\n",
       "    .dataframe tbody tr th:only-of-type {\n",
       "        vertical-align: middle;\n",
       "    }\n",
       "\n",
       "    .dataframe tbody tr th {\n",
       "        vertical-align: top;\n",
       "    }\n",
       "\n",
       "    .dataframe thead th {\n",
       "        text-align: right;\n",
       "    }\n",
       "</style>\n",
       "<table border=\"1\" class=\"dataframe\">\n",
       "  <thead>\n",
       "    <tr style=\"text-align: right;\">\n",
       "      <th></th>\n",
       "      <th>instant</th>\n",
       "      <th>dteday</th>\n",
       "      <th>season</th>\n",
       "      <th>yr</th>\n",
       "      <th>mnth</th>\n",
       "      <th>hr</th>\n",
       "      <th>holiday</th>\n",
       "      <th>weekday</th>\n",
       "      <th>weathersit</th>\n",
       "      <th>temp</th>\n",
       "    </tr>\n",
       "  </thead>\n",
       "  <tbody>\n",
       "    <tr>\n",
       "      <th>0</th>\n",
       "      <td>1</td>\n",
       "      <td>01-01-2011</td>\n",
       "      <td>1</td>\n",
       "      <td>0</td>\n",
       "      <td>1</td>\n",
       "      <td>0</td>\n",
       "      <td>False</td>\n",
       "      <td>6</td>\n",
       "      <td>1</td>\n",
       "      <td>0.24</td>\n",
       "    </tr>\n",
       "    <tr>\n",
       "      <th>1</th>\n",
       "      <td>2</td>\n",
       "      <td>01-01-2011</td>\n",
       "      <td>1</td>\n",
       "      <td>0</td>\n",
       "      <td>1</td>\n",
       "      <td>1</td>\n",
       "      <td>False</td>\n",
       "      <td>6</td>\n",
       "      <td>1</td>\n",
       "      <td>0.22</td>\n",
       "    </tr>\n",
       "    <tr>\n",
       "      <th>2</th>\n",
       "      <td>3</td>\n",
       "      <td>01-01-2011</td>\n",
       "      <td>1</td>\n",
       "      <td>0</td>\n",
       "      <td>1</td>\n",
       "      <td>2</td>\n",
       "      <td>False</td>\n",
       "      <td>6</td>\n",
       "      <td>1</td>\n",
       "      <td>0.22</td>\n",
       "    </tr>\n",
       "    <tr>\n",
       "      <th>3</th>\n",
       "      <td>4</td>\n",
       "      <td>01-01-2011</td>\n",
       "      <td>1</td>\n",
       "      <td>0</td>\n",
       "      <td>1</td>\n",
       "      <td>3</td>\n",
       "      <td>False</td>\n",
       "      <td>6</td>\n",
       "      <td>1</td>\n",
       "      <td>0.24</td>\n",
       "    </tr>\n",
       "    <tr>\n",
       "      <th>4</th>\n",
       "      <td>5</td>\n",
       "      <td>01-01-2011</td>\n",
       "      <td>1</td>\n",
       "      <td>0</td>\n",
       "      <td>1</td>\n",
       "      <td>4</td>\n",
       "      <td>False</td>\n",
       "      <td>6</td>\n",
       "      <td>1</td>\n",
       "      <td>0.24</td>\n",
       "    </tr>\n",
       "    <tr>\n",
       "      <th>...</th>\n",
       "      <td>...</td>\n",
       "      <td>...</td>\n",
       "      <td>...</td>\n",
       "      <td>...</td>\n",
       "      <td>...</td>\n",
       "      <td>...</td>\n",
       "      <td>...</td>\n",
       "      <td>...</td>\n",
       "      <td>...</td>\n",
       "      <td>...</td>\n",
       "    </tr>\n",
       "    <tr>\n",
       "      <th>605</th>\n",
       "      <td>606</td>\n",
       "      <td>28-01-2011</td>\n",
       "      <td>1</td>\n",
       "      <td>0</td>\n",
       "      <td>1</td>\n",
       "      <td>11</td>\n",
       "      <td>False</td>\n",
       "      <td>5</td>\n",
       "      <td>3</td>\n",
       "      <td>0.18</td>\n",
       "    </tr>\n",
       "    <tr>\n",
       "      <th>606</th>\n",
       "      <td>607</td>\n",
       "      <td>28-01-2011</td>\n",
       "      <td>1</td>\n",
       "      <td>0</td>\n",
       "      <td>1</td>\n",
       "      <td>12</td>\n",
       "      <td>False</td>\n",
       "      <td>5</td>\n",
       "      <td>3</td>\n",
       "      <td>0.18</td>\n",
       "    </tr>\n",
       "    <tr>\n",
       "      <th>607</th>\n",
       "      <td>608</td>\n",
       "      <td>28-01-2011</td>\n",
       "      <td>1</td>\n",
       "      <td>0</td>\n",
       "      <td>1</td>\n",
       "      <td>13</td>\n",
       "      <td>False</td>\n",
       "      <td>5</td>\n",
       "      <td>3</td>\n",
       "      <td>0.18</td>\n",
       "    </tr>\n",
       "    <tr>\n",
       "      <th>608</th>\n",
       "      <td>609</td>\n",
       "      <td>28-01-2011</td>\n",
       "      <td>1</td>\n",
       "      <td>0</td>\n",
       "      <td>1</td>\n",
       "      <td>14</td>\n",
       "      <td>False</td>\n",
       "      <td>5</td>\n",
       "      <td>3</td>\n",
       "      <td>0.22</td>\n",
       "    </tr>\n",
       "    <tr>\n",
       "      <th>609</th>\n",
       "      <td>610</td>\n",
       "      <td>28-01-2011</td>\n",
       "      <td>1</td>\n",
       "      <td>0</td>\n",
       "      <td>1</td>\n",
       "      <td>15</td>\n",
       "      <td>False</td>\n",
       "      <td>5</td>\n",
       "      <td>2</td>\n",
       "      <td>0.20</td>\n",
       "    </tr>\n",
       "  </tbody>\n",
       "</table>\n",
       "<p>610 rows × 10 columns</p>\n",
       "</div>"
      ],
      "text/plain": [
       "     instant      dteday  season  yr  mnth  hr  holiday  weekday  weathersit  \\\n",
       "0          1  01-01-2011       1   0     1   0    False        6           1   \n",
       "1          2  01-01-2011       1   0     1   1    False        6           1   \n",
       "2          3  01-01-2011       1   0     1   2    False        6           1   \n",
       "3          4  01-01-2011       1   0     1   3    False        6           1   \n",
       "4          5  01-01-2011       1   0     1   4    False        6           1   \n",
       "..       ...         ...     ...  ..   ...  ..      ...      ...         ...   \n",
       "605      606  28-01-2011       1   0     1  11    False        5           3   \n",
       "606      607  28-01-2011       1   0     1  12    False        5           3   \n",
       "607      608  28-01-2011       1   0     1  13    False        5           3   \n",
       "608      609  28-01-2011       1   0     1  14    False        5           3   \n",
       "609      610  28-01-2011       1   0     1  15    False        5           2   \n",
       "\n",
       "     temp  \n",
       "0    0.24  \n",
       "1    0.22  \n",
       "2    0.22  \n",
       "3    0.24  \n",
       "4    0.24  \n",
       "..    ...  \n",
       "605  0.18  \n",
       "606  0.18  \n",
       "607  0.18  \n",
       "608  0.22  \n",
       "609  0.20  \n",
       "\n",
       "[610 rows x 10 columns]"
      ]
     },
     "execution_count": 140,
     "metadata": {},
     "output_type": "execute_result"
    }
   ],
   "source": [
    "import pandas as pd \n",
    "dataset_1=pd.read_csv('dataset_1 - dataset_1.csv')\n",
    "dataset_1"
   ]
  },
  {
   "cell_type": "code",
   "execution_count": 141,
   "metadata": {},
   "outputs": [
    {
     "data": {
      "text/plain": [
       "instant         int64\n",
       "dteday         object\n",
       "season          int64\n",
       "yr              int64\n",
       "mnth            int64\n",
       "hr              int64\n",
       "holiday          bool\n",
       "weekday         int64\n",
       "weathersit      int64\n",
       "temp          float64\n",
       "dtype: object"
      ]
     },
     "execution_count": 141,
     "metadata": {},
     "output_type": "execute_result"
    }
   ],
   "source": [
    "dataset_1.dtypes"
   ]
  },
  {
   "cell_type": "code",
   "execution_count": 142,
   "metadata": {},
   "outputs": [],
   "source": [
    "# Data Wrangling on dataset1"
   ]
  },
  {
   "cell_type": "code",
   "execution_count": 143,
   "metadata": {},
   "outputs": [
    {
     "name": "stdout",
     "output_type": "stream",
     "text": [
      "Unique values for each column is 'instant':\n",
      "[  1   2   3   4   5   6   7   8   9  10  11  12  13  14  15  16  17  18\n",
      "  19  20  21  22  23  24  25  26  27  28  29  30  31  32  33  34  35  36\n",
      "  37  38  39  40  41  42  43  44  45  46  47  48  49  50  51  52  53  54\n",
      "  55  56  57  58  59  60  61  62  63  64  65  66  67  68  69  70  71  72\n",
      "  73  74  75  76  77  78  79  80  81  82  83  84  85  86  87  88  89  90\n",
      "  91  92  93  94  95  96  97  98  99 100 101 102 103 104 105 106 107 108\n",
      " 109 110 111 112 113 114 115 116 117 118 119 120 121 122 123 124 125 126\n",
      " 127 128 129 130 131 132 133 134 135 136 137 138 139 140 141 142 143 144\n",
      " 145 146 147 148 149 150 151 152 153 154 155 156 157 158 159 160 161 162\n",
      " 163 164 165 166 167 168 169 170 171 172 173 174 175 176 177 178 179 180\n",
      " 181 182 183 184 185 186 187 188 189 190 191 192 193 194 195 196 197 198\n",
      " 199 200 201 202 203 204 205 206 207 208 209 210 211 212 213 214 215 216\n",
      " 217 218 219 220 221 222 223 224 225 226 227 228 229 230 231 232 233 234\n",
      " 235 236 237 238 239 240 241 242 243 244 245 246 247 248 249 250 251 252\n",
      " 253 254 255 256 257 258 259 260 261 262 263 264 265 266 267 268 269 270\n",
      " 271 272 273 274 275 276 277 278 279 280 281 282 283 284 285 286 287 288\n",
      " 289 290 291 292 293 294 295 296 297 298 299 300 301 302 303 304 305 306\n",
      " 307 308 309 310 311 312 313 314 315 316 317 318 319 320 321 322 323 324\n",
      " 325 326 327 328 329 330 331 332 333 334 335 336 337 338 339 340 341 342\n",
      " 343 344 345 346 347 348 349 350 351 352 353 354 355 356 357 358 359 360\n",
      " 361 362 363 364 365 366 367 368 369 370 371 372 373 374 375 376 377 378\n",
      " 379 380 381 382 383 384 385 386 387 388 389 390 391 392 393 394 395 396\n",
      " 397 398 399 400 401 402 403 404 405 406 407 408 409 410 411 412 413 414\n",
      " 415 416 417 418 419 420 421 422 423 424 425 426 427 428 429 430 431 432\n",
      " 433 434 435 436 437 438 439 440 441 442 443 444 445 446 447 448 449 450\n",
      " 451 452 453 454 455 456 457 458 459 460 461 462 463 464 465 466 467 468\n",
      " 469 470 471 472 473 474 475 476 477 478 479 480 481 482 483 484 485 486\n",
      " 487 488 489 490 491 492 493 494 495 496 497 498 499 500 501 502 503 504\n",
      " 505 506 507 508 509 510 511 512 513 514 515 516 517 518 519 520 521 522\n",
      " 523 524 525 526 527 528 529 530 531 532 533 534 535 536 537 538 539 540\n",
      " 541 542 543 544 545 546 547 548 549 550 551 552 553 554 555 556 557 558\n",
      " 559 560 561 562 563 564 565 566 567 568 569 570 571 572 573 574 575 576\n",
      " 577 578 579 580 581 582 583 584 585 586 587 588 589 590 591 592 593 594\n",
      " 595 596 597 598 599 600 601 602 603 604 605 606 607 608 609 610]\n",
      "Unique values for each column is 'dteday':\n",
      "['01-01-2011' '02-01-2011' '03-01-2011' '04-01-2011' '05-01-2011'\n",
      " '06-01-2011' '07-01-2011' '08-01-2011' '09-01-2011' '10-01-2011'\n",
      " '11-01-2011' '12-01-2011' '13-01-2011' '14-01-2011' '15-01-2011'\n",
      " '16-01-2011' '17-01-2011' '18-01-2011' '19-01-2011' '20-01-2011'\n",
      " '21-01-2011' '22-01-2011' '23-01-2011' '24-01-2011' '25-01-2011'\n",
      " '26-01-2011' '27-01-2011' '28-01-2011']\n",
      "Unique values for each column is 'season':\n",
      "[1]\n",
      "Unique values for each column is 'yr':\n",
      "[0]\n",
      "Unique values for each column is 'mnth':\n",
      "[1]\n",
      "Unique values for each column is 'hr':\n",
      "[ 0  1  2  3  4  5  6  7  8  9 10 11 12 13 14 15 16 17 18 19 20 21 22 23]\n",
      "Unique values for each column is 'holiday':\n",
      "[False  True]\n",
      "Unique values for each column is 'weekday':\n",
      "[6 0 1 2 3 4 5]\n",
      "Unique values for each column is 'weathersit':\n",
      "[1 2 3 4]\n",
      "Unique values for each column is 'temp':\n",
      "[0.24 0.22 0.2  0.32 0.38 0.36 0.42 0.46 0.44 0.4  0.34 0.3  0.26 0.16\n",
      " 0.14 0.18 0.12 0.28 0.1  0.08 0.06 0.04 0.02]\n"
     ]
    }
   ],
   "source": [
    "# Identify unique values for each columns\n",
    "unique_value={}\n",
    "for column in dataset_1.columns:\n",
    "    unique_value[column]=dataset_1[column].unique()\n",
    "for column,values in unique_value.items():\n",
    "    print(f\"Unique values for each column is '{column}':\")\n",
    "    print(values)"
   ]
  },
  {
   "cell_type": "code",
   "execution_count": 144,
   "metadata": {},
   "outputs": [
    {
     "data": {
      "text/plain": [
       "instant       0\n",
       "dteday        0\n",
       "season        0\n",
       "yr            0\n",
       "mnth          0\n",
       "hr            0\n",
       "holiday       0\n",
       "weekday       0\n",
       "weathersit    0\n",
       "temp          0\n",
       "dtype: int64"
      ]
     },
     "execution_count": 144,
     "metadata": {},
     "output_type": "execute_result"
    }
   ],
   "source": [
    "# Chech the null values\n",
    "dataset_1.isnull().sum()"
   ]
  },
  {
   "cell_type": "code",
   "execution_count": 145,
   "metadata": {},
   "outputs": [
    {
     "data": {
      "text/plain": [
       "instant         int64\n",
       "dteday         object\n",
       "season          int64\n",
       "yr              int64\n",
       "mnth            int64\n",
       "hr              int64\n",
       "holiday          bool\n",
       "weekday         int64\n",
       "weathersit      int64\n",
       "temp          float64\n",
       "dtype: object"
      ]
     },
     "execution_count": 145,
     "metadata": {},
     "output_type": "execute_result"
    }
   ],
   "source": [
    "dataset_1.dtypes"
   ]
  },
  {
   "cell_type": "code",
   "execution_count": 146,
   "metadata": {},
   "outputs": [],
   "source": [
    "# Replacing the value of wekdays "
   ]
  },
  {
   "cell_type": "code",
   "execution_count": 147,
   "metadata": {},
   "outputs": [
    {
     "name": "stdout",
     "output_type": "stream",
     "text": [
      "     instant      dteday  season  yr  mnth  hr  holiday   weekday  weathersit  \\\n",
      "0          1  01-01-2011       1   0     1   0    False  Saturday           1   \n",
      "1          2  01-01-2011       1   0     1   1    False  Saturday           1   \n",
      "2          3  01-01-2011       1   0     1   2    False  Saturday           1   \n",
      "3          4  01-01-2011       1   0     1   3    False  Saturday           1   \n",
      "4          5  01-01-2011       1   0     1   4    False  Saturday           1   \n",
      "..       ...         ...     ...  ..   ...  ..      ...       ...         ...   \n",
      "605      606  28-01-2011       1   0     1  11    False    Friday           3   \n",
      "606      607  28-01-2011       1   0     1  12    False    Friday           3   \n",
      "607      608  28-01-2011       1   0     1  13    False    Friday           3   \n",
      "608      609  28-01-2011       1   0     1  14    False    Friday           3   \n",
      "609      610  28-01-2011       1   0     1  15    False    Friday           2   \n",
      "\n",
      "     temp  \n",
      "0    0.24  \n",
      "1    0.22  \n",
      "2    0.22  \n",
      "3    0.24  \n",
      "4    0.24  \n",
      "..    ...  \n",
      "605  0.18  \n",
      "606  0.18  \n",
      "607  0.18  \n",
      "608  0.22  \n",
      "609  0.20  \n",
      "\n",
      "[610 rows x 10 columns]\n"
     ]
    }
   ],
   "source": [
    "weekday_maping={\n",
    "    0: 'Sunday',\n",
    "    1: 'Monday',\n",
    "    2: 'Tuesday',\n",
    "    3: 'Wednesday',\n",
    "    4: 'Thursday',\n",
    "    5: 'Friday',\n",
    "    6: 'Saturday'\n",
    "}\n",
    "dataset_1['weekday']=dataset_1['weekday'].replace(weekday_maping)\n",
    "print(dataset_1)"
   ]
  },
  {
   "cell_type": "code",
   "execution_count": 148,
   "metadata": {},
   "outputs": [
    {
     "name": "stdout",
     "output_type": "stream",
     "text": [
      "Value counts for each column 'instant': \n",
      "instant\n",
      "1      1\n",
      "410    1\n",
      "403    1\n",
      "404    1\n",
      "405    1\n",
      "      ..\n",
      "205    1\n",
      "206    1\n",
      "207    1\n",
      "208    1\n",
      "610    1\n",
      "Name: count, Length: 610, dtype: int64\n",
      "\n",
      "Value counts for each column 'dteday': \n",
      "dteday\n",
      "01-01-2011    24\n",
      "09-01-2011    24\n",
      "21-01-2011    24\n",
      "20-01-2011    24\n",
      "17-01-2011    24\n",
      "16-01-2011    24\n",
      "13-01-2011    24\n",
      "10-01-2011    24\n",
      "15-01-2011    24\n",
      "08-01-2011    24\n",
      "05-01-2011    23\n",
      "25-01-2011    23\n",
      "24-01-2011    23\n",
      "23-01-2011    23\n",
      "22-01-2011    23\n",
      "04-01-2011    23\n",
      "19-01-2011    23\n",
      "06-01-2011    23\n",
      "02-01-2011    23\n",
      "14-01-2011    23\n",
      "07-01-2011    23\n",
      "11-01-2011    22\n",
      "03-01-2011    22\n",
      "12-01-2011    22\n",
      "26-01-2011    16\n",
      "28-01-2011    15\n",
      "18-01-2011    12\n",
      "27-01-2011     8\n",
      "Name: count, dtype: int64\n",
      "\n",
      "Value counts for each column 'season': \n",
      "season\n",
      "1    610\n",
      "Name: count, dtype: int64\n",
      "\n",
      "Value counts for each column 'yr': \n",
      "yr\n",
      "0    610\n",
      "Name: count, dtype: int64\n",
      "\n",
      "Value counts for each column 'mnth': \n",
      "mnth\n",
      "1    610\n",
      "Name: count, dtype: int64\n",
      "\n",
      "Value counts for each column 'hr': \n",
      "hr\n",
      "12    27\n",
      "17    27\n",
      "16    27\n",
      "15    27\n",
      "14    27\n",
      "13    27\n",
      "1     26\n",
      "22    26\n",
      "21    26\n",
      "20    26\n",
      "19    26\n",
      "18    26\n",
      "0     26\n",
      "11    26\n",
      "10    26\n",
      "9     26\n",
      "8     26\n",
      "7     26\n",
      "6     26\n",
      "23    26\n",
      "5     24\n",
      "2     24\n",
      "4     20\n",
      "3     16\n",
      "Name: count, dtype: int64\n",
      "\n",
      "Value counts for each column 'holiday': \n",
      "holiday\n",
      "False    586\n",
      "True      24\n",
      "Name: count, dtype: int64\n",
      "\n",
      "Value counts for each column 'weekday': \n",
      "weekday\n",
      "Saturday     95\n",
      "Sunday       94\n",
      "Monday       93\n",
      "Friday       85\n",
      "Wednesday    84\n",
      "Tuesday      80\n",
      "Thursday     79\n",
      "Name: count, dtype: int64\n",
      "\n",
      "Value counts for each column 'weathersit': \n",
      "weathersit\n",
      "1    368\n",
      "2    194\n",
      "3     47\n",
      "4      1\n",
      "Name: count, dtype: int64\n",
      "\n",
      "Value counts for each column 'temp': \n",
      "temp\n",
      "0.20    89\n",
      "0.16    84\n",
      "0.22    79\n",
      "0.14    56\n",
      "0.18    54\n",
      "0.24    40\n",
      "0.26    32\n",
      "0.12    29\n",
      "0.10    22\n",
      "0.30    19\n",
      "0.04    14\n",
      "0.32    13\n",
      "0.06    11\n",
      "0.28    10\n",
      "0.02    10\n",
      "0.08     9\n",
      "0.40     8\n",
      "0.36     8\n",
      "0.46     6\n",
      "0.42     6\n",
      "0.34     5\n",
      "0.44     3\n",
      "0.38     3\n",
      "Name: count, dtype: int64\n",
      "\n"
     ]
    }
   ],
   "source": [
    "# Value count for each column\n",
    "value_counts={}\n",
    "for column in dataset_1.columns:\n",
    "    value_counts[column]=dataset_1[column].value_counts()\n",
    "for column,count in value_counts.items():\n",
    "    print(f\"Value counts for each column '{column}': \")\n",
    "    print(count)\n",
    "    print()"
   ]
  },
  {
   "cell_type": "code",
   "execution_count": 149,
   "metadata": {},
   "outputs": [
    {
     "name": "stdout",
     "output_type": "stream",
     "text": [
      "num of rows 610\n",
      "num of columns 10\n"
     ]
    }
   ],
   "source": [
    "# Chech the demsion of the dataset \n",
    "dimesions=dataset_1.shape\n",
    "num_rows=dimesions[0]\n",
    "num_columns=dimesions[1]\n",
    "print('num of rows',num_rows)\n",
    "print('num of columns',num_columns)"
   ]
  },
  {
   "cell_type": "code",
   "execution_count": 150,
   "metadata": {},
   "outputs": [
    {
     "name": "stdout",
     "output_type": "stream",
     "text": [
      "instant         int64\n",
      "dteday         object\n",
      "season          int64\n",
      "yr              int64\n",
      "mnth            int64\n",
      "hr              int64\n",
      "holiday          bool\n",
      "weekday        object\n",
      "weathersit      int64\n",
      "temp          float64\n",
      "dtype: object\n"
     ]
    }
   ],
   "source": [
    "# Check the datatype of the dataset\n",
    "print(dataset_1.dtypes)"
   ]
  },
  {
   "cell_type": "code",
   "execution_count": 151,
   "metadata": {},
   "outputs": [
    {
     "name": "stdout",
     "output_type": "stream",
     "text": [
      "<class 'pandas.core.frame.DataFrame'>\n",
      "RangeIndex: 610 entries, 0 to 609\n",
      "Data columns (total 10 columns):\n",
      " #   Column      Non-Null Count  Dtype  \n",
      "---  ------      --------------  -----  \n",
      " 0   instant     610 non-null    int64  \n",
      " 1   dteday      610 non-null    object \n",
      " 2   season      610 non-null    int64  \n",
      " 3   yr          610 non-null    int64  \n",
      " 4   mnth        610 non-null    int64  \n",
      " 5   hr          610 non-null    int64  \n",
      " 6   holiday     610 non-null    bool   \n",
      " 7   weekday     610 non-null    object \n",
      " 8   weathersit  610 non-null    int64  \n",
      " 9   temp        610 non-null    float64\n",
      "dtypes: bool(1), float64(1), int64(6), object(2)\n",
      "memory usage: 43.6+ KB\n",
      "None\n"
     ]
    }
   ],
   "source": [
    "# Check the datatype summery\n",
    "print(dataset_1.info())"
   ]
  },
  {
   "cell_type": "code",
   "execution_count": 154,
   "metadata": {},
   "outputs": [
    {
     "name": "stdout",
     "output_type": "stream",
     "text": [
      "     instant  season     yr   mnth     hr  weathersit   temp\n",
      "0      False   False  False  False  False       False  False\n",
      "1      False   False  False  False  False       False  False\n",
      "2      False   False  False  False  False       False  False\n",
      "3      False   False  False  False  False       False  False\n",
      "4      False   False  False  False  False       False  False\n",
      "..       ...     ...    ...    ...    ...         ...    ...\n",
      "605    False   False  False  False  False       False  False\n",
      "606    False   False  False  False  False       False  False\n",
      "607    False   False  False  False  False       False  False\n",
      "608    False   False  False  False  False       False  False\n",
      "609    False   False  False  False  False       False  False\n",
      "\n",
      "[610 rows x 7 columns]\n"
     ]
    }
   ],
   "source": [
    "# Find the ooutliers of the dataset\n",
    "numerical_column=dataset_1.select_dtypes(include=['int64','float64'])\n",
    "q1=numerical_column.quantile(0.25)\n",
    "q2=numerical_column.quantile(0.75)\n",
    "IQR=q2-q1\n",
    "thershold=1.5\n",
    "outliers=(numerical_column < (q1-thershold*IQR)) | (numerical_column > (q2+thershold * IQR))\n",
    "print(outliers)"
   ]
  },
  {
   "cell_type": "code",
   "execution_count": 155,
   "metadata": {},
   "outputs": [],
   "source": [
    "# Data Acquisition on dataset 2"
   ]
  },
  {
   "cell_type": "code",
   "execution_count": 156,
   "metadata": {},
   "outputs": [
    {
     "data": {
      "text/html": [
       "<div>\n",
       "<style scoped>\n",
       "    .dataframe tbody tr th:only-of-type {\n",
       "        vertical-align: middle;\n",
       "    }\n",
       "\n",
       "    .dataframe tbody tr th {\n",
       "        vertical-align: top;\n",
       "    }\n",
       "\n",
       "    .dataframe thead th {\n",
       "        text-align: right;\n",
       "    }\n",
       "</style>\n",
       "<table border=\"1\" class=\"dataframe\">\n",
       "  <thead>\n",
       "    <tr style=\"text-align: right;\">\n",
       "      <th></th>\n",
       "      <th>Unnamed: 0</th>\n",
       "      <th>instant</th>\n",
       "      <th>atemp</th>\n",
       "      <th>hum</th>\n",
       "      <th>windspeed</th>\n",
       "      <th>casual</th>\n",
       "      <th>registered</th>\n",
       "      <th>cnt</th>\n",
       "    </tr>\n",
       "  </thead>\n",
       "  <tbody>\n",
       "    <tr>\n",
       "      <th>0</th>\n",
       "      <td>0</td>\n",
       "      <td>1</td>\n",
       "      <td>0.2879</td>\n",
       "      <td>0.81</td>\n",
       "      <td>0.0000</td>\n",
       "      <td>3</td>\n",
       "      <td>13</td>\n",
       "      <td>16</td>\n",
       "    </tr>\n",
       "    <tr>\n",
       "      <th>1</th>\n",
       "      <td>1</td>\n",
       "      <td>2</td>\n",
       "      <td>0.2727</td>\n",
       "      <td>0.80</td>\n",
       "      <td>0.0000</td>\n",
       "      <td>8</td>\n",
       "      <td>32</td>\n",
       "      <td>40</td>\n",
       "    </tr>\n",
       "    <tr>\n",
       "      <th>2</th>\n",
       "      <td>2</td>\n",
       "      <td>3</td>\n",
       "      <td>0.2727</td>\n",
       "      <td>0.80</td>\n",
       "      <td>0.0000</td>\n",
       "      <td>5</td>\n",
       "      <td>27</td>\n",
       "      <td>32</td>\n",
       "    </tr>\n",
       "    <tr>\n",
       "      <th>3</th>\n",
       "      <td>3</td>\n",
       "      <td>4</td>\n",
       "      <td>0.2879</td>\n",
       "      <td>0.75</td>\n",
       "      <td>0.0000</td>\n",
       "      <td>3</td>\n",
       "      <td>10</td>\n",
       "      <td>13</td>\n",
       "    </tr>\n",
       "    <tr>\n",
       "      <th>4</th>\n",
       "      <td>4</td>\n",
       "      <td>5</td>\n",
       "      <td>0.2879</td>\n",
       "      <td>0.75</td>\n",
       "      <td>0.0000</td>\n",
       "      <td>0</td>\n",
       "      <td>1</td>\n",
       "      <td>1</td>\n",
       "    </tr>\n",
       "    <tr>\n",
       "      <th>...</th>\n",
       "      <td>...</td>\n",
       "      <td>...</td>\n",
       "      <td>...</td>\n",
       "      <td>...</td>\n",
       "      <td>...</td>\n",
       "      <td>...</td>\n",
       "      <td>...</td>\n",
       "      <td>...</td>\n",
       "    </tr>\n",
       "    <tr>\n",
       "      <th>605</th>\n",
       "      <td>605</td>\n",
       "      <td>606</td>\n",
       "      <td>0.2121</td>\n",
       "      <td>0.93</td>\n",
       "      <td>0.1045</td>\n",
       "      <td>0</td>\n",
       "      <td>30</td>\n",
       "      <td>30</td>\n",
       "    </tr>\n",
       "    <tr>\n",
       "      <th>606</th>\n",
       "      <td>606</td>\n",
       "      <td>607</td>\n",
       "      <td>0.2121</td>\n",
       "      <td>0.93</td>\n",
       "      <td>0.1045</td>\n",
       "      <td>1</td>\n",
       "      <td>28</td>\n",
       "      <td>29</td>\n",
       "    </tr>\n",
       "    <tr>\n",
       "      <th>607</th>\n",
       "      <td>607</td>\n",
       "      <td>608</td>\n",
       "      <td>0.2121</td>\n",
       "      <td>0.93</td>\n",
       "      <td>0.1045</td>\n",
       "      <td>0</td>\n",
       "      <td>31</td>\n",
       "      <td>31</td>\n",
       "    </tr>\n",
       "    <tr>\n",
       "      <th>608</th>\n",
       "      <td>608</td>\n",
       "      <td>609</td>\n",
       "      <td>0.2727</td>\n",
       "      <td>0.80</td>\n",
       "      <td>0.0000</td>\n",
       "      <td>2</td>\n",
       "      <td>36</td>\n",
       "      <td>38</td>\n",
       "    </tr>\n",
       "    <tr>\n",
       "      <th>609</th>\n",
       "      <td>609</td>\n",
       "      <td>610</td>\n",
       "      <td>0.2576</td>\n",
       "      <td>0.86</td>\n",
       "      <td>0.0000</td>\n",
       "      <td>1</td>\n",
       "      <td>40</td>\n",
       "      <td>41</td>\n",
       "    </tr>\n",
       "  </tbody>\n",
       "</table>\n",
       "<p>610 rows × 8 columns</p>\n",
       "</div>"
      ],
      "text/plain": [
       "     Unnamed: 0  instant   atemp   hum  windspeed  casual  registered  cnt\n",
       "0             0        1  0.2879  0.81     0.0000       3          13   16\n",
       "1             1        2  0.2727  0.80     0.0000       8          32   40\n",
       "2             2        3  0.2727  0.80     0.0000       5          27   32\n",
       "3             3        4  0.2879  0.75     0.0000       3          10   13\n",
       "4             4        5  0.2879  0.75     0.0000       0           1    1\n",
       "..          ...      ...     ...   ...        ...     ...         ...  ...\n",
       "605         605      606  0.2121  0.93     0.1045       0          30   30\n",
       "606         606      607  0.2121  0.93     0.1045       1          28   29\n",
       "607         607      608  0.2121  0.93     0.1045       0          31   31\n",
       "608         608      609  0.2727  0.80     0.0000       2          36   38\n",
       "609         609      610  0.2576  0.86     0.0000       1          40   41\n",
       "\n",
       "[610 rows x 8 columns]"
      ]
     },
     "execution_count": 156,
     "metadata": {},
     "output_type": "execute_result"
    }
   ],
   "source": [
    "dataset_2=pd.read_csv('dataset_2.xlsx - dataset_2.csv')\n",
    "dataset_2"
   ]
  },
  {
   "cell_type": "code",
   "execution_count": 97,
   "metadata": {},
   "outputs": [],
   "source": [
    "# Data Warngling on dataset 2"
   ]
  },
  {
   "cell_type": "code",
   "execution_count": 98,
   "metadata": {},
   "outputs": [],
   "source": [
    "# identify the unique values "
   ]
  },
  {
   "cell_type": "code",
   "execution_count": 99,
   "metadata": {},
   "outputs": [
    {
     "name": "stdout",
     "output_type": "stream",
     "text": [
      "unique value for each column 'Unnamed: 0': \n",
      "[  0   1   2   3   4   5   6   7   8   9  10  11  12  13  14  15  16  17\n",
      "  18  19  20  21  22  23  24  25  26  27  28  29  30  31  32  33  34  35\n",
      "  36  37  38  39  40  41  42  43  44  45  46  47  48  49  50  51  52  53\n",
      "  54  55  56  57  58  59  60  61  62  63  64  65  66  67  68  69  70  71\n",
      "  72  73  74  75  76  77  78  79  80  81  82  83  84  85  86  87  88  89\n",
      "  90  91  92  93  94  95  96  97  98  99 100 101 102 103 104 105 106 107\n",
      " 108 109 110 111 112 113 114 115 116 117 118 119 120 121 122 123 124 125\n",
      " 126 127 128 129 130 131 132 133 134 135 136 137 138 139 140 141 142 143\n",
      " 144 145 146 147 148 149 150 151 152 153 154 155 156 157 158 159 160 161\n",
      " 162 163 164 165 166 167 168 169 170 171 172 173 174 175 176 177 178 179\n",
      " 180 181 182 183 184 185 186 187 188 189 190 191 192 193 194 195 196 197\n",
      " 198 199 200 201 202 203 204 205 206 207 208 209 210 211 212 213 214 215\n",
      " 216 217 218 219 220 221 222 223 224 225 226 227 228 229 230 231 232 233\n",
      " 234 235 236 237 238 239 240 241 242 243 244 245 246 247 248 249 250 251\n",
      " 252 253 254 255 256 257 258 259 260 261 262 263 264 265 266 267 268 269\n",
      " 270 271 272 273 274 275 276 277 278 279 280 281 282 283 284 285 286 287\n",
      " 288 289 290 291 292 293 294 295 296 297 298 299 300 301 302 303 304 305\n",
      " 306 307 308 309 310 311 312 313 314 315 316 317 318 319 320 321 322 323\n",
      " 324 325 326 327 328 329 330 331 332 333 334 335 336 337 338 339 340 341\n",
      " 342 343 344 345 346 347 348 349 350 351 352 353 354 355 356 357 358 359\n",
      " 360 361 362 363 364 365 366 367 368 369 370 371 372 373 374 375 376 377\n",
      " 378 379 380 381 382 383 384 385 386 387 388 389 390 391 392 393 394 395\n",
      " 396 397 398 399 400 401 402 403 404 405 406 407 408 409 410 411 412 413\n",
      " 414 415 416 417 418 419 420 421 422 423 424 425 426 427 428 429 430 431\n",
      " 432 433 434 435 436 437 438 439 440 441 442 443 444 445 446 447 448 449\n",
      " 450 451 452 453 454 455 456 457 458 459 460 461 462 463 464 465 466 467\n",
      " 468 469 470 471 472 473 474 475 476 477 478 479 480 481 482 483 484 485\n",
      " 486 487 488 489 490 491 492 493 494 495 496 497 498 499 500 501 502 503\n",
      " 504 505 506 507 508 509 510 511 512 513 514 515 516 517 518 519 520 521\n",
      " 522 523 524 525 526 527 528 529 530 531 532 533 534 535 536 537 538 539\n",
      " 540 541 542 543 544 545 546 547 548 549 550 551 552 553 554 555 556 557\n",
      " 558 559 560 561 562 563 564 565 566 567 568 569 570 571 572 573 574 575\n",
      " 576 577 578 579 580 581 582 583 584 585 586 587 588 589 590 591 592 593\n",
      " 594 595 596 597 598 599 600 601 602 603 604 605 606 607 608 609]\n",
      "\n",
      "unique value for each column 'instant': \n",
      "[  1   2   3   4   5   6   7   8   9  10  11  12  13  14  15  16  17  18\n",
      "  19  20  21  22  23  24  25  26  27  28  29  30  31  32  33  34  35  36\n",
      "  37  38  39  40  41  42  43  44  45  46  47  48  49  50  51  52  53  54\n",
      "  55  56  57  58  59  60  61  62  63  64  65  66  67  68  69  70  71  72\n",
      "  73  74  75  76  77  78  79  80  81  82  83  84  85  86  87  88  89  90\n",
      "  91  92  93  94  95  96  97  98  99 100 101 102 103 104 105 106 107 108\n",
      " 109 110 111 112 113 114 115 116 117 118 119 120 121 122 123 124 125 126\n",
      " 127 128 129 130 131 132 133 134 135 136 137 138 139 140 141 142 143 144\n",
      " 145 146 147 148 149 150 151 152 153 154 155 156 157 158 159 160 161 162\n",
      " 163 164 165 166 167 168 169 170 171 172 173 174 175 176 177 178 179 180\n",
      " 181 182 183 184 185 186 187 188 189 190 191 192 193 194 195 196 197 198\n",
      " 199 200 201 202 203 204 205 206 207 208 209 210 211 212 213 214 215 216\n",
      " 217 218 219 220 221 222 223 224 225 226 227 228 229 230 231 232 233 234\n",
      " 235 236 237 238 239 240 241 242 243 244 245 246 247 248 249 250 251 252\n",
      " 253 254 255 256 257 258 259 260 261 262 263 264 265 266 267 268 269 270\n",
      " 271 272 273 274 275 276 277 278 279 280 281 282 283 284 285 286 287 288\n",
      " 289 290 291 292 293 294 295 296 297 298 299 300 301 302 303 304 305 306\n",
      " 307 308 309 310 311 312 313 314 315 316 317 318 319 320 321 322 323 324\n",
      " 325 326 327 328 329 330 331 332 333 334 335 336 337 338 339 340 341 342\n",
      " 343 344 345 346 347 348 349 350 351 352 353 354 355 356 357 358 359 360\n",
      " 361 362 363 364 365 366 367 368 369 370 371 372 373 374 375 376 377 378\n",
      " 379 380 381 382 383 384 385 386 387 388 389 390 391 392 393 394 395 396\n",
      " 397 398 399 400 401 402 403 404 405 406 407 408 409 410 411 412 413 414\n",
      " 415 416 417 418 419 420 421 422 423 424 425 426 427 428 429 430 431 432\n",
      " 433 434 435 436 437 438 439 440 441 442 443 444 445 446 447 448 449 450\n",
      " 451 452 453 454 455 456 457 458 459 460 461 462 463 464 465 466 467 468\n",
      " 469 470 471 472 473 474 475 476 477 478 479 480 481 482 483 484 485 486\n",
      " 487 488 489 490 491 492 493 494 495 496 497 498 499 500 501 502 503 504\n",
      " 505 506 507 508 509 510 511 512 513 514 515 516 517 518 519 520 521 522\n",
      " 523 524 525 526 527 528 529 530 531 532 533 534 535 536 537 538 539 540\n",
      " 541 542 543 544 545 546 547 548 549 550 551 552 553 554 555 556 557 558\n",
      " 559 560 561 562 563 564 565 566 567 568 569 570 571 572 573 574 575 576\n",
      " 577 578 579 580 581 582 583 584 585 586 587 588 589 590 591 592 593 594\n",
      " 595 596 597 598 599 600 601 602 603 604 605 606 607 608 609 610]\n",
      "\n",
      "unique value for each column 'atemp': \n",
      "[0.2879 0.2727 0.2576    nan 0.3485 0.3939 0.3333 0.4242 0.4545 0.4394\n",
      " 0.4091 0.2273 0.2121 0.197  0.1364 0.1061 0.1212 0.1667 0.1818 0.2424\n",
      " 0.1515 0.3182 0.0606 0.0758 0.0909 0.303  0.0303 0.0455 0.     0.0152]\n",
      "\n",
      "unique value for each column 'hum': \n",
      "[0.81 0.8  0.75 0.86 0.76 0.77 0.72 0.82 0.88 0.87 0.94 1.   0.71 0.66\n",
      " 0.57 0.46 0.42 0.39 0.44 0.47 0.5  0.43 0.4  0.35 0.3  0.32 0.64 0.69\n",
      " 0.55 0.59 0.63 0.68 0.74 0.51 0.56 0.52 0.49 0.48 0.37 0.33 0.28 0.38\n",
      " 0.36 0.93 0.29 0.53 0.34 0.54 0.41 0.45 0.92 0.62 0.58 0.61 0.6  0.65\n",
      " 0.7  0.27 0.21 0.25 0.26]\n",
      "\n",
      "unique value for each column 'windspeed': \n",
      "[0.     0.0896 0.2537 0.2836 0.2985 0.194  0.2239 0.1343 0.1642 0.3284\n",
      " 0.4478 0.3582 0.4179 0.3881 0.1045 0.4925 0.5522 0.4627 0.5224 0.5821]\n",
      "\n",
      "unique value for each column 'casual': \n",
      "[ 3  8  5  0  2  1 12 26 29 47 35 40 41 15  9  6 11  4  7 16 20 19 10 13\n",
      " 14 18 17 21 33 23 22 24]\n",
      "\n",
      "unique value for each column 'registered': \n",
      "[ 13  32  27  10   1   0   2   7   6  24  30  55  47  71  70  52  26  31\n",
      "  25  17  16   8   4  19  46  54  73  64  67  58  43  29  20   9   5   3\n",
      "  63 153  81  33  41  48  53  66 146 148 102  49  11  36  92 177  98  37\n",
      "  50  79  68 202 179 110  34  87 192 109  74  65  85 186 166 127  82  40\n",
      "  18  95 216 116  42  57  78  59 163 158  51  76 190 125 178  39  14  15\n",
      "  56  60  90  83  69  28  35  22  12  77  44  38  75 184 174 154  97 214\n",
      "  45  72 130  94 139 135 197 137 141 156 117 155 134  89  80 108  61 124\n",
      " 132 196 107 100 247 140  86  62 207 210 159 151 119  93  23 171 145 101\n",
      "  21 103 233 208 218 133]\n",
      "\n",
      "unique value for each column 'cnt': \n",
      "[ 16  40  32  13   1   2   3   8  14  36  56  84  94 106 110  93  67  35\n",
      "  37  34  28  39  17   9   6  20  53  70  75  59  74  76  65  30  22  31\n",
      "   5  64 154  88  44  51  61  77  72 157  52  12   4 179 100  42  57  78\n",
      "  97  63  83 212 182 112  54  48  11  33 195 115  46  79  71  62  89 190\n",
      " 169 132  43  19  95 219 122  45  86 172 163  69  23   7 210 134  73  50\n",
      "  87 187 123  15  25  98 102  55  10  49  82  92  41  38 188  47 178 155\n",
      "  24  18  27  99 217 130 136  29 128  81  68 139 137 202  60 162 144 158\n",
      " 117  90 159 101 118 129  26 104  91 113 105  21  80 125 133 197 109 161\n",
      " 249 143 215 185 152 126 166 120  96 103  58 116 177 184 153 108 238 222\n",
      " 225 146 119]\n",
      "\n"
     ]
    }
   ],
   "source": [
    "for column in dataset_2.columns:\n",
    "    unique_value=dataset_2[column].unique()\n",
    "    print(f\"unique value for each column '{column}': \")\n",
    "    print(unique_value)\n",
    "    print()"
   ]
  },
  {
   "cell_type": "code",
   "execution_count": 100,
   "metadata": {},
   "outputs": [],
   "source": [
    "# Check the dimesion of the dataset "
   ]
  },
  {
   "cell_type": "code",
   "execution_count": 101,
   "metadata": {},
   "outputs": [
    {
     "name": "stdout",
     "output_type": "stream",
     "text": [
      "(610, 8)\n"
     ]
    }
   ],
   "source": [
    "print(dataset_2.shape)"
   ]
  },
  {
   "cell_type": "code",
   "execution_count": 102,
   "metadata": {},
   "outputs": [],
   "source": [
    "# check the datatype of the dataset "
   ]
  },
  {
   "cell_type": "code",
   "execution_count": 103,
   "metadata": {},
   "outputs": [
    {
     "name": "stdout",
     "output_type": "stream",
     "text": [
      "<class 'pandas.core.frame.DataFrame'>\n",
      "RangeIndex: 610 entries, 0 to 609\n",
      "Data columns (total 8 columns):\n",
      " #   Column      Non-Null Count  Dtype  \n",
      "---  ------      --------------  -----  \n",
      " 0   Unnamed: 0  610 non-null    int64  \n",
      " 1   instant     610 non-null    int64  \n",
      " 2   atemp       599 non-null    float64\n",
      " 3   hum         610 non-null    float64\n",
      " 4   windspeed   610 non-null    float64\n",
      " 5   casual      610 non-null    int64  \n",
      " 6   registered  610 non-null    int64  \n",
      " 7   cnt         610 non-null    int64  \n",
      "dtypes: float64(3), int64(5)\n",
      "memory usage: 38.2 KB\n",
      "None\n"
     ]
    }
   ],
   "source": [
    "print(dataset_2.info())"
   ]
  },
  {
   "cell_type": "code",
   "execution_count": 104,
   "metadata": {},
   "outputs": [],
   "source": [
    "# Check thw null values"
   ]
  },
  {
   "cell_type": "code",
   "execution_count": 105,
   "metadata": {},
   "outputs": [
    {
     "data": {
      "text/plain": [
       "Unnamed: 0     0\n",
       "instant        0\n",
       "atemp         11\n",
       "hum            0\n",
       "windspeed      0\n",
       "casual         0\n",
       "registered     0\n",
       "cnt            0\n",
       "dtype: int64"
      ]
     },
     "execution_count": 105,
     "metadata": {},
     "output_type": "execute_result"
    }
   ],
   "source": [
    "dataset_2.isna().sum()"
   ]
  },
  {
   "cell_type": "code",
   "execution_count": 106,
   "metadata": {},
   "outputs": [],
   "source": [
    "# Remove the null values "
   ]
  },
  {
   "cell_type": "code",
   "execution_count": 107,
   "metadata": {},
   "outputs": [
    {
     "name": "stderr",
     "output_type": "stream",
     "text": [
      "/var/folders/w7/pp471v290xqffj0zmygxzr_c0000gn/T/ipykernel_2624/2833661867.py:2: FutureWarning: A value is trying to be set on a copy of a DataFrame or Series through chained assignment using an inplace method.\n",
      "The behavior will change in pandas 3.0. This inplace method will never work because the intermediate object on which we are setting values always behaves as a copy.\n",
      "\n",
      "For example, when doing 'df[col].method(value, inplace=True)', try using 'df.method({col: value}, inplace=True)' or df[col] = df[col].method(value) instead, to perform the operation inplace on the original object.\n",
      "\n",
      "\n",
      "  dataset_2['atemp'].replace(np.nan,dataset_2['atemp'].mean(),inplace=True)\n"
     ]
    }
   ],
   "source": [
    "import numpy as np\n",
    "dataset_2['atemp'].replace(np.nan,dataset_2['atemp'].mean(),inplace=True)"
   ]
  },
  {
   "cell_type": "code",
   "execution_count": 108,
   "metadata": {},
   "outputs": [
    {
     "data": {
      "text/plain": [
       "Unnamed: 0    0\n",
       "instant       0\n",
       "atemp         0\n",
       "hum           0\n",
       "windspeed     0\n",
       "casual        0\n",
       "registered    0\n",
       "cnt           0\n",
       "dtype: int64"
      ]
     },
     "execution_count": 108,
     "metadata": {},
     "output_type": "execute_result"
    }
   ],
   "source": [
    "dataset_2.isna().sum()"
   ]
  },
  {
   "cell_type": "code",
   "execution_count": 109,
   "metadata": {},
   "outputs": [],
   "source": [
    "# Combined two datasets"
   ]
  },
  {
   "cell_type": "code",
   "execution_count": 110,
   "metadata": {},
   "outputs": [
    {
     "data": {
      "text/html": [
       "<div>\n",
       "<style scoped>\n",
       "    .dataframe tbody tr th:only-of-type {\n",
       "        vertical-align: middle;\n",
       "    }\n",
       "\n",
       "    .dataframe tbody tr th {\n",
       "        vertical-align: top;\n",
       "    }\n",
       "\n",
       "    .dataframe thead th {\n",
       "        text-align: right;\n",
       "    }\n",
       "</style>\n",
       "<table border=\"1\" class=\"dataframe\">\n",
       "  <thead>\n",
       "    <tr style=\"text-align: right;\">\n",
       "      <th></th>\n",
       "      <th>instant</th>\n",
       "      <th>dteday</th>\n",
       "      <th>season</th>\n",
       "      <th>yr</th>\n",
       "      <th>mnth</th>\n",
       "      <th>hr</th>\n",
       "      <th>holiday</th>\n",
       "      <th>weekday</th>\n",
       "      <th>weathersit</th>\n",
       "      <th>temp</th>\n",
       "      <th>Unnamed: 0</th>\n",
       "      <th>atemp</th>\n",
       "      <th>hum</th>\n",
       "      <th>windspeed</th>\n",
       "      <th>casual</th>\n",
       "      <th>registered</th>\n",
       "      <th>cnt</th>\n",
       "    </tr>\n",
       "  </thead>\n",
       "  <tbody>\n",
       "    <tr>\n",
       "      <th>0</th>\n",
       "      <td>1</td>\n",
       "      <td>01-01-2011</td>\n",
       "      <td>1</td>\n",
       "      <td>0</td>\n",
       "      <td>1</td>\n",
       "      <td>0</td>\n",
       "      <td>False</td>\n",
       "      <td>Saturday</td>\n",
       "      <td>1</td>\n",
       "      <td>0.24</td>\n",
       "      <td>0</td>\n",
       "      <td>0.2879</td>\n",
       "      <td>0.81</td>\n",
       "      <td>0.0000</td>\n",
       "      <td>3</td>\n",
       "      <td>13</td>\n",
       "      <td>16</td>\n",
       "    </tr>\n",
       "    <tr>\n",
       "      <th>1</th>\n",
       "      <td>2</td>\n",
       "      <td>01-01-2011</td>\n",
       "      <td>1</td>\n",
       "      <td>0</td>\n",
       "      <td>1</td>\n",
       "      <td>1</td>\n",
       "      <td>False</td>\n",
       "      <td>Saturday</td>\n",
       "      <td>1</td>\n",
       "      <td>0.22</td>\n",
       "      <td>1</td>\n",
       "      <td>0.2727</td>\n",
       "      <td>0.80</td>\n",
       "      <td>0.0000</td>\n",
       "      <td>8</td>\n",
       "      <td>32</td>\n",
       "      <td>40</td>\n",
       "    </tr>\n",
       "    <tr>\n",
       "      <th>2</th>\n",
       "      <td>3</td>\n",
       "      <td>01-01-2011</td>\n",
       "      <td>1</td>\n",
       "      <td>0</td>\n",
       "      <td>1</td>\n",
       "      <td>2</td>\n",
       "      <td>False</td>\n",
       "      <td>Saturday</td>\n",
       "      <td>1</td>\n",
       "      <td>0.22</td>\n",
       "      <td>2</td>\n",
       "      <td>0.2727</td>\n",
       "      <td>0.80</td>\n",
       "      <td>0.0000</td>\n",
       "      <td>5</td>\n",
       "      <td>27</td>\n",
       "      <td>32</td>\n",
       "    </tr>\n",
       "    <tr>\n",
       "      <th>3</th>\n",
       "      <td>4</td>\n",
       "      <td>01-01-2011</td>\n",
       "      <td>1</td>\n",
       "      <td>0</td>\n",
       "      <td>1</td>\n",
       "      <td>3</td>\n",
       "      <td>False</td>\n",
       "      <td>Saturday</td>\n",
       "      <td>1</td>\n",
       "      <td>0.24</td>\n",
       "      <td>3</td>\n",
       "      <td>0.2879</td>\n",
       "      <td>0.75</td>\n",
       "      <td>0.0000</td>\n",
       "      <td>3</td>\n",
       "      <td>10</td>\n",
       "      <td>13</td>\n",
       "    </tr>\n",
       "    <tr>\n",
       "      <th>4</th>\n",
       "      <td>5</td>\n",
       "      <td>01-01-2011</td>\n",
       "      <td>1</td>\n",
       "      <td>0</td>\n",
       "      <td>1</td>\n",
       "      <td>4</td>\n",
       "      <td>False</td>\n",
       "      <td>Saturday</td>\n",
       "      <td>1</td>\n",
       "      <td>0.24</td>\n",
       "      <td>4</td>\n",
       "      <td>0.2879</td>\n",
       "      <td>0.75</td>\n",
       "      <td>0.0000</td>\n",
       "      <td>0</td>\n",
       "      <td>1</td>\n",
       "      <td>1</td>\n",
       "    </tr>\n",
       "    <tr>\n",
       "      <th>...</th>\n",
       "      <td>...</td>\n",
       "      <td>...</td>\n",
       "      <td>...</td>\n",
       "      <td>...</td>\n",
       "      <td>...</td>\n",
       "      <td>...</td>\n",
       "      <td>...</td>\n",
       "      <td>...</td>\n",
       "      <td>...</td>\n",
       "      <td>...</td>\n",
       "      <td>...</td>\n",
       "      <td>...</td>\n",
       "      <td>...</td>\n",
       "      <td>...</td>\n",
       "      <td>...</td>\n",
       "      <td>...</td>\n",
       "      <td>...</td>\n",
       "    </tr>\n",
       "    <tr>\n",
       "      <th>605</th>\n",
       "      <td>606</td>\n",
       "      <td>28-01-2011</td>\n",
       "      <td>1</td>\n",
       "      <td>0</td>\n",
       "      <td>1</td>\n",
       "      <td>11</td>\n",
       "      <td>False</td>\n",
       "      <td>Friday</td>\n",
       "      <td>3</td>\n",
       "      <td>0.18</td>\n",
       "      <td>605</td>\n",
       "      <td>0.2121</td>\n",
       "      <td>0.93</td>\n",
       "      <td>0.1045</td>\n",
       "      <td>0</td>\n",
       "      <td>30</td>\n",
       "      <td>30</td>\n",
       "    </tr>\n",
       "    <tr>\n",
       "      <th>606</th>\n",
       "      <td>607</td>\n",
       "      <td>28-01-2011</td>\n",
       "      <td>1</td>\n",
       "      <td>0</td>\n",
       "      <td>1</td>\n",
       "      <td>12</td>\n",
       "      <td>False</td>\n",
       "      <td>Friday</td>\n",
       "      <td>3</td>\n",
       "      <td>0.18</td>\n",
       "      <td>606</td>\n",
       "      <td>0.2121</td>\n",
       "      <td>0.93</td>\n",
       "      <td>0.1045</td>\n",
       "      <td>1</td>\n",
       "      <td>28</td>\n",
       "      <td>29</td>\n",
       "    </tr>\n",
       "    <tr>\n",
       "      <th>607</th>\n",
       "      <td>608</td>\n",
       "      <td>28-01-2011</td>\n",
       "      <td>1</td>\n",
       "      <td>0</td>\n",
       "      <td>1</td>\n",
       "      <td>13</td>\n",
       "      <td>False</td>\n",
       "      <td>Friday</td>\n",
       "      <td>3</td>\n",
       "      <td>0.18</td>\n",
       "      <td>607</td>\n",
       "      <td>0.2121</td>\n",
       "      <td>0.93</td>\n",
       "      <td>0.1045</td>\n",
       "      <td>0</td>\n",
       "      <td>31</td>\n",
       "      <td>31</td>\n",
       "    </tr>\n",
       "    <tr>\n",
       "      <th>608</th>\n",
       "      <td>609</td>\n",
       "      <td>28-01-2011</td>\n",
       "      <td>1</td>\n",
       "      <td>0</td>\n",
       "      <td>1</td>\n",
       "      <td>14</td>\n",
       "      <td>False</td>\n",
       "      <td>Friday</td>\n",
       "      <td>3</td>\n",
       "      <td>0.22</td>\n",
       "      <td>608</td>\n",
       "      <td>0.2727</td>\n",
       "      <td>0.80</td>\n",
       "      <td>0.0000</td>\n",
       "      <td>2</td>\n",
       "      <td>36</td>\n",
       "      <td>38</td>\n",
       "    </tr>\n",
       "    <tr>\n",
       "      <th>609</th>\n",
       "      <td>610</td>\n",
       "      <td>28-01-2011</td>\n",
       "      <td>1</td>\n",
       "      <td>0</td>\n",
       "      <td>1</td>\n",
       "      <td>15</td>\n",
       "      <td>False</td>\n",
       "      <td>Friday</td>\n",
       "      <td>2</td>\n",
       "      <td>0.20</td>\n",
       "      <td>609</td>\n",
       "      <td>0.2576</td>\n",
       "      <td>0.86</td>\n",
       "      <td>0.0000</td>\n",
       "      <td>1</td>\n",
       "      <td>40</td>\n",
       "      <td>41</td>\n",
       "    </tr>\n",
       "  </tbody>\n",
       "</table>\n",
       "<p>610 rows × 17 columns</p>\n",
       "</div>"
      ],
      "text/plain": [
       "     instant      dteday  season  yr  mnth  hr  holiday   weekday  weathersit  \\\n",
       "0          1  01-01-2011       1   0     1   0    False  Saturday           1   \n",
       "1          2  01-01-2011       1   0     1   1    False  Saturday           1   \n",
       "2          3  01-01-2011       1   0     1   2    False  Saturday           1   \n",
       "3          4  01-01-2011       1   0     1   3    False  Saturday           1   \n",
       "4          5  01-01-2011       1   0     1   4    False  Saturday           1   \n",
       "..       ...         ...     ...  ..   ...  ..      ...       ...         ...   \n",
       "605      606  28-01-2011       1   0     1  11    False    Friday           3   \n",
       "606      607  28-01-2011       1   0     1  12    False    Friday           3   \n",
       "607      608  28-01-2011       1   0     1  13    False    Friday           3   \n",
       "608      609  28-01-2011       1   0     1  14    False    Friday           3   \n",
       "609      610  28-01-2011       1   0     1  15    False    Friday           2   \n",
       "\n",
       "     temp  Unnamed: 0   atemp   hum  windspeed  casual  registered  cnt  \n",
       "0    0.24           0  0.2879  0.81     0.0000       3          13   16  \n",
       "1    0.22           1  0.2727  0.80     0.0000       8          32   40  \n",
       "2    0.22           2  0.2727  0.80     0.0000       5          27   32  \n",
       "3    0.24           3  0.2879  0.75     0.0000       3          10   13  \n",
       "4    0.24           4  0.2879  0.75     0.0000       0           1    1  \n",
       "..    ...         ...     ...   ...        ...     ...         ...  ...  \n",
       "605  0.18         605  0.2121  0.93     0.1045       0          30   30  \n",
       "606  0.18         606  0.2121  0.93     0.1045       1          28   29  \n",
       "607  0.18         607  0.2121  0.93     0.1045       0          31   31  \n",
       "608  0.22         608  0.2727  0.80     0.0000       2          36   38  \n",
       "609  0.20         609  0.2576  0.86     0.0000       1          40   41  \n",
       "\n",
       "[610 rows x 17 columns]"
      ]
     },
     "execution_count": 110,
     "metadata": {},
     "output_type": "execute_result"
    }
   ],
   "source": [
    "combined_dataset=pd.merge(dataset_1,dataset_2,on='instant',how='inner')\n",
    "combined_dataset"
   ]
  },
  {
   "cell_type": "code",
   "execution_count": 111,
   "metadata": {},
   "outputs": [],
   "source": [
    "# Check the null values of the combind dataset "
   ]
  },
  {
   "cell_type": "code",
   "execution_count": 112,
   "metadata": {},
   "outputs": [
    {
     "data": {
      "text/plain": [
       "instant       0\n",
       "dteday        0\n",
       "season        0\n",
       "yr            0\n",
       "mnth          0\n",
       "hr            0\n",
       "holiday       0\n",
       "weekday       0\n",
       "weathersit    0\n",
       "temp          0\n",
       "Unnamed: 0    0\n",
       "atemp         0\n",
       "hum           0\n",
       "windspeed     0\n",
       "casual        0\n",
       "registered    0\n",
       "cnt           0\n",
       "dtype: int64"
      ]
     },
     "execution_count": 112,
     "metadata": {},
     "output_type": "execute_result"
    }
   ],
   "source": [
    "combined_dataset.isna().sum()"
   ]
  },
  {
   "cell_type": "code",
   "execution_count": 113,
   "metadata": {},
   "outputs": [],
   "source": [
    "# Outliers in combined dataset "
   ]
  },
  {
   "cell_type": "code",
   "execution_count": 114,
   "metadata": {},
   "outputs": [
    {
     "data": {
      "image/png": "[encoded data removed]",
      "text/plain": [
       "<Figure size 1400x500 with 1 Axes>"
      ]
     },
     "metadata": {},
     "output_type": "display_data"
    }
   ],
   "source": [
    "import seaborn as sns\n",
    "import matplotlib.pyplot as plt\n",
    "columns_for_boxplot=['temp','atemp','hum','windspeed','casual','registered','cnt']\n",
    "plt.figure(figsize=(14,5))\n",
    "sns.boxplot(data=combined_dataset[columns_for_boxplot])\n",
    "plt.title('Box plot of selected features')\n",
    "plt.xlabel('Features')\n",
    "plt.ylabel('Values')\n",
    "plt.show()\n"
   ]
  },
  {
   "cell_type": "code",
   "execution_count": 115,
   "metadata": {},
   "outputs": [
    {
     "name": "stdout",
     "output_type": "stream",
     "text": [
      "     instant dteday  season  yr  mnth  hr holiday weekday  weathersit  temp  \\\n",
      "0        NaN    NaN     NaN NaN   NaN NaN     NaN     NaN         NaN   NaN   \n",
      "1        NaN    NaN     NaN NaN   NaN NaN     NaN     NaN         NaN   NaN   \n",
      "2        NaN    NaN     NaN NaN   NaN NaN     NaN     NaN         NaN   NaN   \n",
      "3        NaN    NaN     NaN NaN   NaN NaN     NaN     NaN         NaN   NaN   \n",
      "4        NaN    NaN     NaN NaN   NaN NaN     NaN     NaN         NaN   NaN   \n",
      "..       ...    ...     ...  ..   ...  ..     ...     ...         ...   ...   \n",
      "605      NaN    NaN     NaN NaN   NaN NaN     NaN     NaN         NaN   NaN   \n",
      "606      NaN    NaN     NaN NaN   NaN NaN     NaN     NaN         NaN   NaN   \n",
      "607      NaN    NaN     NaN NaN   NaN NaN     NaN     NaN         NaN   NaN   \n",
      "608      NaN    NaN     NaN NaN   NaN NaN     NaN     NaN         NaN   NaN   \n",
      "609      NaN    NaN     NaN NaN   NaN NaN     NaN     NaN         NaN   NaN   \n",
      "\n",
      "     Unnamed: 0  atemp  hum  windspeed  casual  registered  cnt  \n",
      "0           NaN    NaN  NaN        NaN     NaN         NaN  NaN  \n",
      "1           NaN    NaN  NaN        NaN     NaN         NaN  NaN  \n",
      "2           NaN    NaN  NaN        NaN     NaN         NaN  NaN  \n",
      "3           NaN    NaN  NaN        NaN     NaN         NaN  NaN  \n",
      "4           NaN    NaN  NaN        NaN     NaN         NaN  NaN  \n",
      "..          ...    ...  ...        ...     ...         ...  ...  \n",
      "605         NaN    NaN  NaN        NaN     NaN         NaN  NaN  \n",
      "606         NaN    NaN  NaN        NaN     NaN         NaN  NaN  \n",
      "607         NaN    NaN  NaN        NaN     NaN         NaN  NaN  \n",
      "608         NaN    NaN  NaN        NaN     NaN         NaN  NaN  \n",
      "609         NaN    NaN  NaN        NaN     NaN         NaN  NaN  \n",
      "\n",
      "[610 rows x 17 columns]\n"
     ]
    }
   ],
   "source": [
    "numerical_columns=['temp','atemp','hum','windspeed','casual','registered','cnt']\n",
    "q1=combined_dataset[numerical_columns].quantile(0.25)\n",
    "q2=combined_dataset[numerical_columns].quantile(0.75)\n",
    "IQR=q2-q1\n",
    "thershold=1.5\n",
    "outliers=((combined_dataset[numerical_columns] <(q1-thershold * IQR)))|(combined_dataset[numerical_columns]>q2+thershold*IQR).any(axis=1)\n",
    "print(combined_dataset[outliers])\n",
    "        "
   ]
  },
  {
   "cell_type": "code",
   "execution_count": 116,
   "metadata": {},
   "outputs": [],
   "source": [
    "# Task 2"
   ]
  },
  {
   "cell_type": "code",
   "execution_count": 117,
   "metadata": {},
   "outputs": [],
   "source": [
    "# Data Acuistion and wranling on dataset 3."
   ]
  },
  {
   "cell_type": "code",
   "execution_count": 118,
   "metadata": {},
   "outputs": [],
   "source": [
    "# Concatenate combined_data with Dataset_3. To be worked on missing values and ooutliers"
   ]
  },
  {
   "cell_type": "code",
   "execution_count": 119,
   "metadata": {},
   "outputs": [
    {
     "data": {
      "text/html": [
       "<div>\n",
       "<style scoped>\n",
       "    .dataframe tbody tr th:only-of-type {\n",
       "        vertical-align: middle;\n",
       "    }\n",
       "\n",
       "    .dataframe tbody tr th {\n",
       "        vertical-align: top;\n",
       "    }\n",
       "\n",
       "    .dataframe thead th {\n",
       "        text-align: right;\n",
       "    }\n",
       "</style>\n",
       "<table border=\"1\" class=\"dataframe\">\n",
       "  <thead>\n",
       "    <tr style=\"text-align: right;\">\n",
       "      <th></th>\n",
       "      <th>instant</th>\n",
       "      <th>dteday</th>\n",
       "      <th>season</th>\n",
       "      <th>yr</th>\n",
       "      <th>mnth</th>\n",
       "      <th>hr</th>\n",
       "      <th>holiday</th>\n",
       "      <th>weekday</th>\n",
       "      <th>weathersit</th>\n",
       "      <th>temp</th>\n",
       "      <th>atemp</th>\n",
       "      <th>hum</th>\n",
       "      <th>windspeed</th>\n",
       "      <th>casual</th>\n",
       "      <th>registered</th>\n",
       "      <th>cnt</th>\n",
       "    </tr>\n",
       "  </thead>\n",
       "  <tbody>\n",
       "    <tr>\n",
       "      <th>0</th>\n",
       "      <td>620</td>\n",
       "      <td>29-01-2011</td>\n",
       "      <td>1</td>\n",
       "      <td>0</td>\n",
       "      <td>1</td>\n",
       "      <td>1</td>\n",
       "      <td>False</td>\n",
       "      <td>6</td>\n",
       "      <td>1</td>\n",
       "      <td>0.22</td>\n",
       "      <td>0.2273</td>\n",
       "      <td>0.64</td>\n",
       "      <td>0.1940</td>\n",
       "      <td>0</td>\n",
       "      <td>20</td>\n",
       "      <td>20</td>\n",
       "    </tr>\n",
       "    <tr>\n",
       "      <th>1</th>\n",
       "      <td>621</td>\n",
       "      <td>29-01-2011</td>\n",
       "      <td>1</td>\n",
       "      <td>0</td>\n",
       "      <td>1</td>\n",
       "      <td>2</td>\n",
       "      <td>False</td>\n",
       "      <td>6</td>\n",
       "      <td>1</td>\n",
       "      <td>0.22</td>\n",
       "      <td>0.2273</td>\n",
       "      <td>0.64</td>\n",
       "      <td>0.1642</td>\n",
       "      <td>0</td>\n",
       "      <td>15</td>\n",
       "      <td>15</td>\n",
       "    </tr>\n",
       "    <tr>\n",
       "      <th>2</th>\n",
       "      <td>622</td>\n",
       "      <td>29-01-2011</td>\n",
       "      <td>1</td>\n",
       "      <td>0</td>\n",
       "      <td>1</td>\n",
       "      <td>3</td>\n",
       "      <td>False</td>\n",
       "      <td>6</td>\n",
       "      <td>1</td>\n",
       "      <td>0.20</td>\n",
       "      <td>0.2121</td>\n",
       "      <td>0.64</td>\n",
       "      <td>0.1343</td>\n",
       "      <td>3</td>\n",
       "      <td>5</td>\n",
       "      <td>8</td>\n",
       "    </tr>\n",
       "    <tr>\n",
       "      <th>3</th>\n",
       "      <td>623</td>\n",
       "      <td>29-01-2011</td>\n",
       "      <td>1</td>\n",
       "      <td>0</td>\n",
       "      <td>1</td>\n",
       "      <td>4</td>\n",
       "      <td>False</td>\n",
       "      <td>6</td>\n",
       "      <td>1</td>\n",
       "      <td>0.16</td>\n",
       "      <td>0.1818</td>\n",
       "      <td>0.69</td>\n",
       "      <td>0.1045</td>\n",
       "      <td>1</td>\n",
       "      <td>2</td>\n",
       "      <td>3</td>\n",
       "    </tr>\n",
       "    <tr>\n",
       "      <th>4</th>\n",
       "      <td>624</td>\n",
       "      <td>29-01-2011</td>\n",
       "      <td>1</td>\n",
       "      <td>0</td>\n",
       "      <td>1</td>\n",
       "      <td>6</td>\n",
       "      <td>False</td>\n",
       "      <td>6</td>\n",
       "      <td>1</td>\n",
       "      <td>0.16</td>\n",
       "      <td>0.1818</td>\n",
       "      <td>0.64</td>\n",
       "      <td>0.1343</td>\n",
       "      <td>0</td>\n",
       "      <td>2</td>\n",
       "      <td>2</td>\n",
       "    </tr>\n",
       "    <tr>\n",
       "      <th>...</th>\n",
       "      <td>...</td>\n",
       "      <td>...</td>\n",
       "      <td>...</td>\n",
       "      <td>...</td>\n",
       "      <td>...</td>\n",
       "      <td>...</td>\n",
       "      <td>...</td>\n",
       "      <td>...</td>\n",
       "      <td>...</td>\n",
       "      <td>...</td>\n",
       "      <td>...</td>\n",
       "      <td>...</td>\n",
       "      <td>...</td>\n",
       "      <td>...</td>\n",
       "      <td>...</td>\n",
       "      <td>...</td>\n",
       "    </tr>\n",
       "    <tr>\n",
       "      <th>385</th>\n",
       "      <td>615</td>\n",
       "      <td>28-01-2011</td>\n",
       "      <td>1</td>\n",
       "      <td>0</td>\n",
       "      <td>1</td>\n",
       "      <td>20</td>\n",
       "      <td>False</td>\n",
       "      <td>5</td>\n",
       "      <td>2</td>\n",
       "      <td>0.24</td>\n",
       "      <td>0.2273</td>\n",
       "      <td>0.70</td>\n",
       "      <td>0.1940</td>\n",
       "      <td>1</td>\n",
       "      <td>61</td>\n",
       "      <td>62</td>\n",
       "    </tr>\n",
       "    <tr>\n",
       "      <th>386</th>\n",
       "      <td>616</td>\n",
       "      <td>28-01-2011</td>\n",
       "      <td>1</td>\n",
       "      <td>0</td>\n",
       "      <td>1</td>\n",
       "      <td>21</td>\n",
       "      <td>False</td>\n",
       "      <td>5</td>\n",
       "      <td>2</td>\n",
       "      <td>0.22</td>\n",
       "      <td>0.2273</td>\n",
       "      <td>0.75</td>\n",
       "      <td>0.1343</td>\n",
       "      <td>1</td>\n",
       "      <td>57</td>\n",
       "      <td>58</td>\n",
       "    </tr>\n",
       "    <tr>\n",
       "      <th>387</th>\n",
       "      <td>617</td>\n",
       "      <td>28-01-2011</td>\n",
       "      <td>1</td>\n",
       "      <td>0</td>\n",
       "      <td>1</td>\n",
       "      <td>22</td>\n",
       "      <td>False</td>\n",
       "      <td>5</td>\n",
       "      <td>1</td>\n",
       "      <td>0.24</td>\n",
       "      <td>0.2121</td>\n",
       "      <td>0.65</td>\n",
       "      <td>0.3582</td>\n",
       "      <td>0</td>\n",
       "      <td>26</td>\n",
       "      <td>26</td>\n",
       "    </tr>\n",
       "    <tr>\n",
       "      <th>388</th>\n",
       "      <td>618</td>\n",
       "      <td>28-01-2011</td>\n",
       "      <td>1</td>\n",
       "      <td>0</td>\n",
       "      <td>1</td>\n",
       "      <td>23</td>\n",
       "      <td>False</td>\n",
       "      <td>5</td>\n",
       "      <td>1</td>\n",
       "      <td>0.24</td>\n",
       "      <td>0.2273</td>\n",
       "      <td>0.60</td>\n",
       "      <td>0.2239</td>\n",
       "      <td>1</td>\n",
       "      <td>22</td>\n",
       "      <td>23</td>\n",
       "    </tr>\n",
       "    <tr>\n",
       "      <th>389</th>\n",
       "      <td>619</td>\n",
       "      <td>29-01-2011</td>\n",
       "      <td>1</td>\n",
       "      <td>0</td>\n",
       "      <td>1</td>\n",
       "      <td>0</td>\n",
       "      <td>False</td>\n",
       "      <td>6</td>\n",
       "      <td>1</td>\n",
       "      <td>0.22</td>\n",
       "      <td>0.1970</td>\n",
       "      <td>0.64</td>\n",
       "      <td>0.3582</td>\n",
       "      <td>2</td>\n",
       "      <td>26</td>\n",
       "      <td>28</td>\n",
       "    </tr>\n",
       "  </tbody>\n",
       "</table>\n",
       "<p>390 rows × 16 columns</p>\n",
       "</div>"
      ],
      "text/plain": [
       "     instant      dteday  season  yr  mnth  hr  holiday  weekday  weathersit  \\\n",
       "0        620  29-01-2011       1   0     1   1    False        6           1   \n",
       "1        621  29-01-2011       1   0     1   2    False        6           1   \n",
       "2        622  29-01-2011       1   0     1   3    False        6           1   \n",
       "3        623  29-01-2011       1   0     1   4    False        6           1   \n",
       "4        624  29-01-2011       1   0     1   6    False        6           1   \n",
       "..       ...         ...     ...  ..   ...  ..      ...      ...         ...   \n",
       "385      615  28-01-2011       1   0     1  20    False        5           2   \n",
       "386      616  28-01-2011       1   0     1  21    False        5           2   \n",
       "387      617  28-01-2011       1   0     1  22    False        5           1   \n",
       "388      618  28-01-2011       1   0     1  23    False        5           1   \n",
       "389      619  29-01-2011       1   0     1   0    False        6           1   \n",
       "\n",
       "     temp   atemp   hum  windspeed  casual  registered  cnt  \n",
       "0    0.22  0.2273  0.64     0.1940       0          20   20  \n",
       "1    0.22  0.2273  0.64     0.1642       0          15   15  \n",
       "2    0.20  0.2121  0.64     0.1343       3           5    8  \n",
       "3    0.16  0.1818  0.69     0.1045       1           2    3  \n",
       "4    0.16  0.1818  0.64     0.1343       0           2    2  \n",
       "..    ...     ...   ...        ...     ...         ...  ...  \n",
       "385  0.24  0.2273  0.70     0.1940       1          61   62  \n",
       "386  0.22  0.2273  0.75     0.1343       1          57   58  \n",
       "387  0.24  0.2121  0.65     0.3582       0          26   26  \n",
       "388  0.24  0.2273  0.60     0.2239       1          22   23  \n",
       "389  0.22  0.1970  0.64     0.3582       2          26   28  \n",
       "\n",
       "[390 rows x 16 columns]"
      ]
     },
     "execution_count": 119,
     "metadata": {},
     "output_type": "execute_result"
    }
   ],
   "source": [
    "dataset_3=pd.read_csv('dataset_3 - dataset_3.csv')\n",
    "dataset_3"
   ]
  },
  {
   "cell_type": "code",
   "execution_count": 120,
   "metadata": {},
   "outputs": [],
   "source": [
    "# Check the unique values "
   ]
  },
  {
   "cell_type": "code",
   "execution_count": 121,
   "metadata": {},
   "outputs": [
    {
     "data": {
      "text/plain": [
       "instant       0\n",
       "dteday        0\n",
       "season        0\n",
       "yr            0\n",
       "mnth          0\n",
       "hr            0\n",
       "holiday       0\n",
       "weekday       0\n",
       "weathersit    0\n",
       "temp          0\n",
       "atemp         0\n",
       "hum           0\n",
       "windspeed     0\n",
       "casual        0\n",
       "registered    0\n",
       "cnt           0\n",
       "dtype: int64"
      ]
     },
     "execution_count": 121,
     "metadata": {},
     "output_type": "execute_result"
    }
   ],
   "source": [
    "dataset_3.isna().sum()"
   ]
  },
  {
   "cell_type": "code",
   "execution_count": 122,
   "metadata": {},
   "outputs": [],
   "source": [
    "# Check the dimesion of the dataset"
   ]
  },
  {
   "cell_type": "code",
   "execution_count": 123,
   "metadata": {},
   "outputs": [
    {
     "name": "stdout",
     "output_type": "stream",
     "text": [
      "(390, 16)\n"
     ]
    }
   ],
   "source": [
    "print(dataset_3.shape)"
   ]
  },
  {
   "cell_type": "code",
   "execution_count": 124,
   "metadata": {},
   "outputs": [],
   "source": [
    "# Unique values of the dataset "
   ]
  },
  {
   "cell_type": "code",
   "execution_count": 125,
   "metadata": {},
   "outputs": [
    {
     "name": "stdout",
     "output_type": "stream",
     "text": [
      "Unique values for column 'instant' \n",
      "[ 620  621  622  623  624  625  626  627  628  629  630  631  632  633\n",
      "  634  635  636  637  638  639  640  641  642  643  644  645  646  647\n",
      "  648  649  650  651  652  653  654  655  656  657  658  659  660  661\n",
      "  662  663  664  665  666  667  668  669  670  671  672  673  674  675\n",
      "  676  677  678  679  680  681  682  683  684  685  686  687  688  689\n",
      "  690  691  692  693  694  695  696  697  698  699  700  701  702  703\n",
      "  704  705  706  707  708  709  710  711  712  713  714  715  716  717\n",
      "  718  719  720  721  722  723  724  725  726  727  728  729  730  731\n",
      "  732  733  734  735  736  737  738  739  740  741  742  743  744  745\n",
      "  746  747  748  749  750  751  752  753  754  755  756  757  758  759\n",
      "  760  761  762  763  764  765  766  767  768  769  770  771  772  773\n",
      "  774  775  776  777  778  779  780  781  782  783  784  785  786  787\n",
      "  788  789  790  791  792  793  794  795  796  797  798  799  800  801\n",
      "  802  803  804  805  806  807  808  809  810  811  812  813  814  815\n",
      "  816  817  818  819  820  821  822  823  824  825  826  827  828  829\n",
      "  830  831  832  833  834  835  836  837  838  839  840  841  842  843\n",
      "  844  845  846  847  848  849  850  851  852  853  854  855  856  857\n",
      "  858  859  860  861  862  863  864  865  866  867  868  869  870  871\n",
      "  872  873  874  875  876  877  878  879  880  881  882  883  884  885\n",
      "  886  887  888  889  890  891  892  893  894  895  896  897  898  899\n",
      "  900  901  902  903  904  905  906  907  908  909  910  911  912  913\n",
      "  914  915  916  917  918  919  920  921  922  923  924  925  926  927\n",
      "  928  929  930  931  932  933  934  935  936  937  938  939  940  941\n",
      "  942  943  944  945  946  947  948  949  950  951  952  953  954  955\n",
      "  956  957  958  959  960  961  962  963  964  965  966  967  968  969\n",
      "  970  971  972  973  974  975  976  977  978  979  980  981  982  983\n",
      "  984  985  986  987  988  989  990  991  992  993  994  995  996  997\n",
      "  998  999 1000  611  612  613  614  615  616  617  618  619]\n",
      "\n",
      "Unique values for column 'dteday' \n",
      "['29-01-2011' '30-01-2011' '31-01-2011' '01-02-2011' '02-02-2011'\n",
      " '03-02-2011' '04-02-2011' '05-02-2011' '06-02-2011' '07-02-2011'\n",
      " '08-02-2011' '09-02-2011' '10-02-2011' '11-02-2011' '12-02-2011'\n",
      " '13-02-2011' '14-02-2011' '28-01-2011']\n",
      "\n",
      "Unique values for column 'season' \n",
      "[1]\n",
      "\n",
      "Unique values for column 'yr' \n",
      "[0]\n",
      "\n",
      "Unique values for column 'mnth' \n",
      "[1 2]\n",
      "\n",
      "Unique values for column 'hr' \n",
      "[ 1  2  3  4  6  7  8  9 10 11 12 13 14 15 16 17 18 19 20 21 22 23  0  5]\n",
      "\n",
      "Unique values for column 'holiday' \n",
      "[False]\n",
      "\n",
      "Unique values for column 'weekday' \n",
      "[6 0 1 2 3 4 5]\n",
      "\n",
      "Unique values for column 'weathersit' \n",
      "[1 2 3]\n",
      "\n",
      "Unique values for column 'temp' \n",
      "[0.22 0.2  0.16 0.18 0.24 0.14 0.3  0.28 0.26 0.34 0.38 0.36 0.32 0.12\n",
      " 0.1  0.08 0.06 0.4  0.42]\n",
      "\n",
      "Unique values for column 'atemp' \n",
      "[0.2273 0.2121 0.1818 0.197  0.2424 0.2879 0.2727 0.3182 0.303  0.3333\n",
      " 0.2576 0.1667 0.1364 0.1515 0.3939 0.1212 0.3636 0.3485 0.1061 0.0758\n",
      " 0.4091 0.4242]\n",
      "\n",
      "Unique values for column 'hum' \n",
      "[0.64 0.69 0.59 0.55 0.6  0.74 0.8  0.93 0.86 0.75 0.52 0.61 0.56 0.65\n",
      " 0.7  0.81 0.87 1.   0.82 0.76 0.71 0.53 0.42 0.45 0.48 0.47 0.44 0.4\n",
      " 0.43 0.5  0.37 0.51 0.63 0.49 0.46 0.62 0.57 0.54 0.66 0.38 0.32 0.35\n",
      " 0.33 0.36 0.39 0.34 0.29 0.27 0.25 0.26 0.28 0.31 0.68 0.73 0.21 0.24\n",
      " 0.41 0.3 ]\n",
      "\n",
      "Unique values for column 'windspeed' \n",
      "[0.194  0.1642 0.1343 0.1045 0.0896 0.2537 0.     0.2836 0.2239 0.3284\n",
      " 0.2985 0.3881 0.5224 0.5522 0.4925 0.4478 0.3582 0.4179 0.4627 0.5821]\n",
      "\n",
      "Unique values for column 'casual' \n",
      "[ 0  3  1  4 12  9 10 22 19  6  7 13 18 14  8  2  5 15 11 28 48 47 52 42\n",
      " 24 16 21 17 30 27 32 26 58 62 51 40]\n",
      "\n",
      "Unique values for column 'registered' \n",
      "[ 20  15   5   2   4  31  34  51  60  66  56  89  98  88  82  59  52  42\n",
      "  35  28  30  33  22  10   7   1   3  11  57  50  87  71 104  95  46  25\n",
      "  19  16   6   8  37 182 112  68  62  85  41  83 155 153 108  78  53 132\n",
      " 114  47  49  45  61 172 165 105  69  64   0  17  48 154 119  74 183 175\n",
      "  29  39  86 184 127  55  67  43  73 170 145  92  26 217 124  76  81  91\n",
      " 195 152 102  36  12   9  63  40  21  38 126 135 130 115  97  65  14 223\n",
      "  54 207 123  75 236 128  44  79 151 100 198  72 157 168  84  99 173 121\n",
      " 159 110  93  70  23 212 111 193  94  27  13 103  90 113 122 106  32  96\n",
      " 147 107]\n",
      "\n",
      "Unique values for column 'cnt' \n",
      "[ 20  15   8   3   2   5  34  55  64  78  65  99 120 107  91  68  58  43\n",
      "  36  32  33  29  11   1  12  38  59  97  84 122 109 123  77  28  21   7\n",
      "  37  72 185 112  69  48  54  86  44 161 156 111  56  17  22  52 135 116\n",
      "  47  51 176 168 108  74  16   4  18  49 155  61  75  63  76 103 190 182\n",
      "  40  39  87 188 133  60 175 147  96  41  13 220 127  82  90 205  71  46\n",
      "  31   9  10  83  45  23  89 117 174 157 121  26  27  62  30  95 230 118\n",
      "  66  50 114 216 128  88  25 100 243 152 101 199  79 166 170   6 178  35\n",
      "  80 165 160  14  24 140 110 125 211  53 145 137 105 154 162 134  98 149]\n",
      "\n"
     ]
    }
   ],
   "source": [
    "for column in dataset_3.columns:\n",
    "    unique_value=dataset_3[column].unique()\n",
    "    print(f\"Unique values for column '{column}' \")\n",
    "    print(unique_value)\n",
    "    print()"
   ]
  },
  {
   "cell_type": "code",
   "execution_count": 126,
   "metadata": {},
   "outputs": [],
   "source": [
    "# Check the datatype of the dataset"
   ]
  },
  {
   "cell_type": "code",
   "execution_count": 127,
   "metadata": {},
   "outputs": [
    {
     "name": "stdout",
     "output_type": "stream",
     "text": [
      "instant         int64\n",
      "dteday         object\n",
      "season          int64\n",
      "yr              int64\n",
      "mnth            int64\n",
      "hr              int64\n",
      "holiday          bool\n",
      "weekday         int64\n",
      "weathersit      int64\n",
      "temp          float64\n",
      "atemp         float64\n",
      "hum           float64\n",
      "windspeed     float64\n",
      "casual          int64\n",
      "registered      int64\n",
      "cnt             int64\n",
      "dtype: object\n"
     ]
    }
   ],
   "source": [
    "print(dataset_3.dtypes)"
   ]
  },
  {
   "cell_type": "code",
   "execution_count": 128,
   "metadata": {},
   "outputs": [],
   "source": [
    "# Check datatype of the summery "
   ]
  },
  {
   "cell_type": "code",
   "execution_count": 129,
   "metadata": {},
   "outputs": [
    {
     "name": "stdout",
     "output_type": "stream",
     "text": [
      "<class 'pandas.core.frame.DataFrame'>\n",
      "RangeIndex: 390 entries, 0 to 389\n",
      "Data columns (total 16 columns):\n",
      " #   Column      Non-Null Count  Dtype  \n",
      "---  ------      --------------  -----  \n",
      " 0   instant     390 non-null    int64  \n",
      " 1   dteday      390 non-null    object \n",
      " 2   season      390 non-null    int64  \n",
      " 3   yr          390 non-null    int64  \n",
      " 4   mnth        390 non-null    int64  \n",
      " 5   hr          390 non-null    int64  \n",
      " 6   holiday     390 non-null    bool   \n",
      " 7   weekday     390 non-null    int64  \n",
      " 8   weathersit  390 non-null    int64  \n",
      " 9   temp        390 non-null    float64\n",
      " 10  atemp       390 non-null    float64\n",
      " 11  hum         390 non-null    float64\n",
      " 12  windspeed   390 non-null    float64\n",
      " 13  casual      390 non-null    int64  \n",
      " 14  registered  390 non-null    int64  \n",
      " 15  cnt         390 non-null    int64  \n",
      "dtypes: bool(1), float64(4), int64(10), object(1)\n",
      "memory usage: 46.2+ KB\n",
      "None\n"
     ]
    }
   ],
   "source": [
    "print(dataset_3.info())"
   ]
  },
  {
   "cell_type": "code",
   "execution_count": 130,
   "metadata": {},
   "outputs": [],
   "source": [
    "# Concatenate combined_data with Dataset 3\n"
   ]
  },
  {
   "cell_type": "code",
   "execution_count": 131,
   "metadata": {},
   "outputs": [
    {
     "name": "stdout",
     "output_type": "stream",
     "text": [
      "     instant      dteday  season   yr  mnth   hr holiday  weekday  weathersit  \\\n",
      "0      620.0  29-01-2011     1.0  0.0   1.0  1.0   False      6.0         1.0   \n",
      "1      621.0  29-01-2011     1.0  0.0   1.0  2.0   False      6.0         1.0   \n",
      "2      622.0  29-01-2011     1.0  0.0   1.0  3.0   False      6.0         1.0   \n",
      "3      623.0  29-01-2011     1.0  0.0   1.0  4.0   False      6.0         1.0   \n",
      "4      624.0  29-01-2011     1.0  0.0   1.0  6.0   False      6.0         1.0   \n",
      "..       ...         ...     ...  ...   ...  ...     ...      ...         ...   \n",
      "605      NaN         NaN     NaN  NaN   NaN  NaN     NaN      NaN         NaN   \n",
      "606      NaN         NaN     NaN  NaN   NaN  NaN     NaN      NaN         NaN   \n",
      "607      NaN         NaN     NaN  NaN   NaN  NaN     NaN      NaN         NaN   \n",
      "608      NaN         NaN     NaN  NaN   NaN  NaN     NaN      NaN         NaN   \n",
      "609      NaN         NaN     NaN  NaN   NaN  NaN     NaN      NaN         NaN   \n",
      "\n",
      "     temp  ...   weekday  weathersit  temp  Unnamed: 0   atemp   hum  \\\n",
      "0    0.22  ...  Saturday           1  0.24           0  0.2879  0.81   \n",
      "1    0.22  ...  Saturday           1  0.22           1  0.2727  0.80   \n",
      "2    0.20  ...  Saturday           1  0.22           2  0.2727  0.80   \n",
      "3    0.16  ...  Saturday           1  0.24           3  0.2879  0.75   \n",
      "4    0.16  ...  Saturday           1  0.24           4  0.2879  0.75   \n",
      "..    ...  ...       ...         ...   ...         ...     ...   ...   \n",
      "605   NaN  ...    Friday           3  0.18         605  0.2121  0.93   \n",
      "606   NaN  ...    Friday           3  0.18         606  0.2121  0.93   \n",
      "607   NaN  ...    Friday           3  0.18         607  0.2121  0.93   \n",
      "608   NaN  ...    Friday           3  0.22         608  0.2727  0.80   \n",
      "609   NaN  ...    Friday           2  0.20         609  0.2576  0.86   \n",
      "\n",
      "     windspeed casual  registered  cnt  \n",
      "0       0.0000      3          13   16  \n",
      "1       0.0000      8          32   40  \n",
      "2       0.0000      5          27   32  \n",
      "3       0.0000      3          10   13  \n",
      "4       0.0000      0           1    1  \n",
      "..         ...    ...         ...  ...  \n",
      "605     0.1045      0          30   30  \n",
      "606     0.1045      1          28   29  \n",
      "607     0.1045      0          31   31  \n",
      "608     0.0000      2          36   38  \n",
      "609     0.0000      1          40   41  \n",
      "\n",
      "[610 rows x 33 columns]\n"
     ]
    }
   ],
   "source": [
    "concate_dataset=pd.concat([dataset_3,combined_dataset],axis=1)\n",
    "print(concate_dataset)"
   ]
  },
  {
   "cell_type": "code",
   "execution_count": 132,
   "metadata": {},
   "outputs": [
    {
     "data": {
      "text/plain": [
       "instant       220\n",
       "dteday        220\n",
       "season        220\n",
       "yr            220\n",
       "mnth          220\n",
       "hr            220\n",
       "holiday       220\n",
       "weekday       220\n",
       "weathersit    220\n",
       "temp          220\n",
       "atemp         220\n",
       "hum           220\n",
       "windspeed     220\n",
       "casual        220\n",
       "registered    220\n",
       "cnt           220\n",
       "instant         0\n",
       "dteday          0\n",
       "season          0\n",
       "yr              0\n",
       "mnth            0\n",
       "hr              0\n",
       "holiday         0\n",
       "weekday         0\n",
       "weathersit      0\n",
       "temp            0\n",
       "Unnamed: 0      0\n",
       "atemp           0\n",
       "hum             0\n",
       "windspeed       0\n",
       "casual          0\n",
       "registered      0\n",
       "cnt             0\n",
       "dtype: int64"
      ]
     },
     "execution_count": 132,
     "metadata": {},
     "output_type": "execute_result"
    }
   ],
   "source": [
    "concate_dataset.isnull().sum()"
   ]
  },
  {
   "cell_type": "code",
   "execution_count": 133,
   "metadata": {},
   "outputs": [],
   "source": [
    "# Task 3 - check the skewnes and corelation of the data"
   ]
  },
  {
   "cell_type": "code",
   "execution_count": 135,
   "metadata": {},
   "outputs": [
    {
     "data": {
      "text/plain": [
       "instant         int64\n",
       "dteday         object\n",
       "season          int64\n",
       "yr              int64\n",
       "mnth            int64\n",
       "hr              int64\n",
       "holiday          bool\n",
       "weekday        object\n",
       "weathersit      int64\n",
       "temp          float64\n",
       "Unnamed: 0      int64\n",
       "atemp         float64\n",
       "hum           float64\n",
       "windspeed     float64\n",
       "casual          int64\n",
       "registered      int64\n",
       "cnt             int64\n",
       "dtype: object"
      ]
     },
     "execution_count": 135,
     "metadata": {},
     "output_type": "execute_result"
    }
   ],
   "source": [
    "combined_dataset.dtypes"
   ]
  },
  {
   "cell_type": "code",
   "execution_count": 160,
   "metadata": {},
   "outputs": [
    {
     "name": "stdout",
     "output_type": "stream",
     "text": [
      "Skewness:\n",
      "instant       0.000000\n",
      "season        0.000000\n",
      "yr            0.000000\n",
      "mnth          0.000000\n",
      "hr           -0.072059\n",
      "weathersit    1.050244\n",
      "temp          0.665087\n",
      "Unnamed: 0    0.000000\n",
      "atemp         0.560652\n",
      "hum           0.609553\n",
      "windspeed     0.339029\n",
      "casual        2.712869\n",
      "registered    1.428875\n",
      "cnt           1.243563\n",
      "dtype: float64\n"
     ]
    }
   ],
   "source": [
    "\n",
    "combined_dataset['dteday'] = pd.to_datetime(combined_dataset['dteday'], format='%d-%m-%Y')\n",
    "numeric_columns = combined_dataset.select_dtypes(include=[np.number]).columns\n",
    "combined_dataset_numeric = combined_dataset[numeric_columns]\n",
    "skewness = combined_dataset_numeric.skew()\n",
    "print('Skewness:')\n",
    "print(skewness)\n"
   ]
  },
  {
   "cell_type": "code",
   "execution_count": 162,
   "metadata": {},
   "outputs": [
    {
     "name": "stdout",
     "output_type": "stream",
     "text": [
      "Correlation Matrix:\n",
      "             instant  season  yr  mnth        hr  weathersit      temp  \\\n",
      "instant     1.000000     NaN NaN   NaN  0.025355    0.162506 -0.314224   \n",
      "season           NaN     NaN NaN   NaN       NaN         NaN       NaN   \n",
      "yr               NaN     NaN NaN   NaN       NaN         NaN       NaN   \n",
      "mnth             NaN     NaN NaN   NaN       NaN         NaN       NaN   \n",
      "hr          0.025355     NaN NaN   NaN  1.000000   -0.056370  0.165148   \n",
      "weathersit  0.162506     NaN NaN   NaN -0.056370    1.000000  0.224919   \n",
      "temp       -0.314224     NaN NaN   NaN  0.165148    0.224919  1.000000   \n",
      "Unnamed: 0  1.000000     NaN NaN   NaN  0.025355    0.162506 -0.314224   \n",
      "atemp      -0.271718     NaN NaN   NaN  0.111643    0.241645  0.908032   \n",
      "hum         0.045119     NaN NaN   NaN -0.184470    0.554007  0.225942   \n",
      "windspeed  -0.029262     NaN NaN   NaN  0.131075   -0.140036  0.071848   \n",
      "casual     -0.088926     NaN NaN   NaN  0.214491   -0.041982  0.438484   \n",
      "registered  0.047670     NaN NaN   NaN  0.334715   -0.141479  0.150515   \n",
      "cnt         0.034055     NaN NaN   NaN  0.346622   -0.140273  0.199701   \n",
      "\n",
      "            Unnamed: 0     atemp       hum  windspeed    casual  registered  \\\n",
      "instant       1.000000 -0.271718  0.045119  -0.029262 -0.088926    0.047670   \n",
      "season             NaN       NaN       NaN        NaN       NaN         NaN   \n",
      "yr                 NaN       NaN       NaN        NaN       NaN         NaN   \n",
      "mnth               NaN       NaN       NaN        NaN       NaN         NaN   \n",
      "hr            0.025355  0.111643 -0.184470   0.131075  0.214491    0.334715   \n",
      "weathersit    0.162506  0.241645  0.554007  -0.140036 -0.041982   -0.141479   \n",
      "temp         -0.314224  0.908032  0.225942   0.071848  0.438484    0.150515   \n",
      "Unnamed: 0    1.000000 -0.271718  0.045119  -0.029262 -0.088926    0.047670   \n",
      "atemp        -0.271718  1.000000  0.298281  -0.244217  0.388592    0.145222   \n",
      "hum           0.045119  0.298281  1.000000  -0.307205 -0.204634   -0.228278   \n",
      "windspeed    -0.029262 -0.244217 -0.307205   1.000000  0.120109    0.038115   \n",
      "casual       -0.088926  0.388592 -0.204634   0.120109  1.000000    0.304894   \n",
      "registered    0.047670  0.145222 -0.228278   0.038115  0.304894    1.000000   \n",
      "cnt           0.034055  0.188260 -0.243876   0.051733  0.418852    0.992524   \n",
      "\n",
      "                 cnt  \n",
      "instant     0.034055  \n",
      "season           NaN  \n",
      "yr               NaN  \n",
      "mnth             NaN  \n",
      "hr          0.346622  \n",
      "weathersit -0.140273  \n",
      "temp        0.199701  \n",
      "Unnamed: 0  0.034055  \n",
      "atemp       0.188260  \n",
      "hum        -0.243876  \n",
      "windspeed   0.051733  \n",
      "casual      0.418852  \n",
      "registered  0.992524  \n",
      "cnt         1.000000  \n"
     ]
    }
   ],
   "source": [
    "combined_dataset['dteday'] = pd.to_datetime(combined_dataset['dteday'], format='%d-%m-%Y')\n",
    "numeric_columns = combined_dataset.select_dtypes(include=[np.number]).columns\n",
    "combined_dataset_numeric = combined_dataset[numeric_columns]\n",
    "correlation_matrix = combined_dataset_numeric.corr()\n",
    "print('Correlation Matrix:')\n",
    "print(correlation_matrix)\n"
   ]
  },
  {
   "cell_type": "code",
   "execution_count": 163,
   "metadata": {},
   "outputs": [],
   "source": [
    "from scipy.stats import skew\n",
    "final_combined_dataset=combined_dataset.drop(columns=['Unnamed: 0'])"
   ]
  },
  {
   "cell_type": "code",
   "execution_count": 164,
   "metadata": {},
   "outputs": [
    {
     "data": {
      "text/html": [
       "<div>\n",
       "<style scoped>\n",
       "    .dataframe tbody tr th:only-of-type {\n",
       "        vertical-align: middle;\n",
       "    }\n",
       "\n",
       "    .dataframe tbody tr th {\n",
       "        vertical-align: top;\n",
       "    }\n",
       "\n",
       "    .dataframe thead th {\n",
       "        text-align: right;\n",
       "    }\n",
       "</style>\n",
       "<table border=\"1\" class=\"dataframe\">\n",
       "  <thead>\n",
       "    <tr style=\"text-align: right;\">\n",
       "      <th></th>\n",
       "      <th>instant</th>\n",
       "      <th>dteday</th>\n",
       "      <th>season</th>\n",
       "      <th>yr</th>\n",
       "      <th>mnth</th>\n",
       "      <th>hr</th>\n",
       "      <th>holiday</th>\n",
       "      <th>weekday</th>\n",
       "      <th>weathersit</th>\n",
       "      <th>temp</th>\n",
       "      <th>atemp</th>\n",
       "      <th>hum</th>\n",
       "      <th>windspeed</th>\n",
       "      <th>casual</th>\n",
       "      <th>registered</th>\n",
       "      <th>cnt</th>\n",
       "    </tr>\n",
       "  </thead>\n",
       "  <tbody>\n",
       "    <tr>\n",
       "      <th>0</th>\n",
       "      <td>1</td>\n",
       "      <td>2011-01-01</td>\n",
       "      <td>1</td>\n",
       "      <td>0</td>\n",
       "      <td>1</td>\n",
       "      <td>0</td>\n",
       "      <td>False</td>\n",
       "      <td>Saturday</td>\n",
       "      <td>1</td>\n",
       "      <td>0.24</td>\n",
       "      <td>0.2879</td>\n",
       "      <td>0.81</td>\n",
       "      <td>0.0000</td>\n",
       "      <td>3</td>\n",
       "      <td>13</td>\n",
       "      <td>16</td>\n",
       "    </tr>\n",
       "    <tr>\n",
       "      <th>1</th>\n",
       "      <td>2</td>\n",
       "      <td>2011-01-01</td>\n",
       "      <td>1</td>\n",
       "      <td>0</td>\n",
       "      <td>1</td>\n",
       "      <td>1</td>\n",
       "      <td>False</td>\n",
       "      <td>Saturday</td>\n",
       "      <td>1</td>\n",
       "      <td>0.22</td>\n",
       "      <td>0.2727</td>\n",
       "      <td>0.80</td>\n",
       "      <td>0.0000</td>\n",
       "      <td>8</td>\n",
       "      <td>32</td>\n",
       "      <td>40</td>\n",
       "    </tr>\n",
       "    <tr>\n",
       "      <th>2</th>\n",
       "      <td>3</td>\n",
       "      <td>2011-01-01</td>\n",
       "      <td>1</td>\n",
       "      <td>0</td>\n",
       "      <td>1</td>\n",
       "      <td>2</td>\n",
       "      <td>False</td>\n",
       "      <td>Saturday</td>\n",
       "      <td>1</td>\n",
       "      <td>0.22</td>\n",
       "      <td>0.2727</td>\n",
       "      <td>0.80</td>\n",
       "      <td>0.0000</td>\n",
       "      <td>5</td>\n",
       "      <td>27</td>\n",
       "      <td>32</td>\n",
       "    </tr>\n",
       "    <tr>\n",
       "      <th>3</th>\n",
       "      <td>4</td>\n",
       "      <td>2011-01-01</td>\n",
       "      <td>1</td>\n",
       "      <td>0</td>\n",
       "      <td>1</td>\n",
       "      <td>3</td>\n",
       "      <td>False</td>\n",
       "      <td>Saturday</td>\n",
       "      <td>1</td>\n",
       "      <td>0.24</td>\n",
       "      <td>0.2879</td>\n",
       "      <td>0.75</td>\n",
       "      <td>0.0000</td>\n",
       "      <td>3</td>\n",
       "      <td>10</td>\n",
       "      <td>13</td>\n",
       "    </tr>\n",
       "    <tr>\n",
       "      <th>4</th>\n",
       "      <td>5</td>\n",
       "      <td>2011-01-01</td>\n",
       "      <td>1</td>\n",
       "      <td>0</td>\n",
       "      <td>1</td>\n",
       "      <td>4</td>\n",
       "      <td>False</td>\n",
       "      <td>Saturday</td>\n",
       "      <td>1</td>\n",
       "      <td>0.24</td>\n",
       "      <td>0.2879</td>\n",
       "      <td>0.75</td>\n",
       "      <td>0.0000</td>\n",
       "      <td>0</td>\n",
       "      <td>1</td>\n",
       "      <td>1</td>\n",
       "    </tr>\n",
       "    <tr>\n",
       "      <th>...</th>\n",
       "      <td>...</td>\n",
       "      <td>...</td>\n",
       "      <td>...</td>\n",
       "      <td>...</td>\n",
       "      <td>...</td>\n",
       "      <td>...</td>\n",
       "      <td>...</td>\n",
       "      <td>...</td>\n",
       "      <td>...</td>\n",
       "      <td>...</td>\n",
       "      <td>...</td>\n",
       "      <td>...</td>\n",
       "      <td>...</td>\n",
       "      <td>...</td>\n",
       "      <td>...</td>\n",
       "      <td>...</td>\n",
       "    </tr>\n",
       "    <tr>\n",
       "      <th>605</th>\n",
       "      <td>606</td>\n",
       "      <td>2011-01-28</td>\n",
       "      <td>1</td>\n",
       "      <td>0</td>\n",
       "      <td>1</td>\n",
       "      <td>11</td>\n",
       "      <td>False</td>\n",
       "      <td>Friday</td>\n",
       "      <td>3</td>\n",
       "      <td>0.18</td>\n",
       "      <td>0.2121</td>\n",
       "      <td>0.93</td>\n",
       "      <td>0.1045</td>\n",
       "      <td>0</td>\n",
       "      <td>30</td>\n",
       "      <td>30</td>\n",
       "    </tr>\n",
       "    <tr>\n",
       "      <th>606</th>\n",
       "      <td>607</td>\n",
       "      <td>2011-01-28</td>\n",
       "      <td>1</td>\n",
       "      <td>0</td>\n",
       "      <td>1</td>\n",
       "      <td>12</td>\n",
       "      <td>False</td>\n",
       "      <td>Friday</td>\n",
       "      <td>3</td>\n",
       "      <td>0.18</td>\n",
       "      <td>0.2121</td>\n",
       "      <td>0.93</td>\n",
       "      <td>0.1045</td>\n",
       "      <td>1</td>\n",
       "      <td>28</td>\n",
       "      <td>29</td>\n",
       "    </tr>\n",
       "    <tr>\n",
       "      <th>607</th>\n",
       "      <td>608</td>\n",
       "      <td>2011-01-28</td>\n",
       "      <td>1</td>\n",
       "      <td>0</td>\n",
       "      <td>1</td>\n",
       "      <td>13</td>\n",
       "      <td>False</td>\n",
       "      <td>Friday</td>\n",
       "      <td>3</td>\n",
       "      <td>0.18</td>\n",
       "      <td>0.2121</td>\n",
       "      <td>0.93</td>\n",
       "      <td>0.1045</td>\n",
       "      <td>0</td>\n",
       "      <td>31</td>\n",
       "      <td>31</td>\n",
       "    </tr>\n",
       "    <tr>\n",
       "      <th>608</th>\n",
       "      <td>609</td>\n",
       "      <td>2011-01-28</td>\n",
       "      <td>1</td>\n",
       "      <td>0</td>\n",
       "      <td>1</td>\n",
       "      <td>14</td>\n",
       "      <td>False</td>\n",
       "      <td>Friday</td>\n",
       "      <td>3</td>\n",
       "      <td>0.22</td>\n",
       "      <td>0.2727</td>\n",
       "      <td>0.80</td>\n",
       "      <td>0.0000</td>\n",
       "      <td>2</td>\n",
       "      <td>36</td>\n",
       "      <td>38</td>\n",
       "    </tr>\n",
       "    <tr>\n",
       "      <th>609</th>\n",
       "      <td>610</td>\n",
       "      <td>2011-01-28</td>\n",
       "      <td>1</td>\n",
       "      <td>0</td>\n",
       "      <td>1</td>\n",
       "      <td>15</td>\n",
       "      <td>False</td>\n",
       "      <td>Friday</td>\n",
       "      <td>2</td>\n",
       "      <td>0.20</td>\n",
       "      <td>0.2576</td>\n",
       "      <td>0.86</td>\n",
       "      <td>0.0000</td>\n",
       "      <td>1</td>\n",
       "      <td>40</td>\n",
       "      <td>41</td>\n",
       "    </tr>\n",
       "  </tbody>\n",
       "</table>\n",
       "<p>610 rows × 16 columns</p>\n",
       "</div>"
      ],
      "text/plain": [
       "     instant     dteday  season  yr  mnth  hr  holiday   weekday  weathersit  \\\n",
       "0          1 2011-01-01       1   0     1   0    False  Saturday           1   \n",
       "1          2 2011-01-01       1   0     1   1    False  Saturday           1   \n",
       "2          3 2011-01-01       1   0     1   2    False  Saturday           1   \n",
       "3          4 2011-01-01       1   0     1   3    False  Saturday           1   \n",
       "4          5 2011-01-01       1   0     1   4    False  Saturday           1   \n",
       "..       ...        ...     ...  ..   ...  ..      ...       ...         ...   \n",
       "605      606 2011-01-28       1   0     1  11    False    Friday           3   \n",
       "606      607 2011-01-28       1   0     1  12    False    Friday           3   \n",
       "607      608 2011-01-28       1   0     1  13    False    Friday           3   \n",
       "608      609 2011-01-28       1   0     1  14    False    Friday           3   \n",
       "609      610 2011-01-28       1   0     1  15    False    Friday           2   \n",
       "\n",
       "     temp   atemp   hum  windspeed  casual  registered  cnt  \n",
       "0    0.24  0.2879  0.81     0.0000       3          13   16  \n",
       "1    0.22  0.2727  0.80     0.0000       8          32   40  \n",
       "2    0.22  0.2727  0.80     0.0000       5          27   32  \n",
       "3    0.24  0.2879  0.75     0.0000       3          10   13  \n",
       "4    0.24  0.2879  0.75     0.0000       0           1    1  \n",
       "..    ...     ...   ...        ...     ...         ...  ...  \n",
       "605  0.18  0.2121  0.93     0.1045       0          30   30  \n",
       "606  0.18  0.2121  0.93     0.1045       1          28   29  \n",
       "607  0.18  0.2121  0.93     0.1045       0          31   31  \n",
       "608  0.22  0.2727  0.80     0.0000       2          36   38  \n",
       "609  0.20  0.2576  0.86     0.0000       1          40   41  \n",
       "\n",
       "[610 rows x 16 columns]"
      ]
     },
     "execution_count": 164,
     "metadata": {},
     "output_type": "execute_result"
    }
   ],
   "source": [
    "final_combined_dataset"
   ]
  },
  {
   "cell_type": "code",
   "execution_count": 165,
   "metadata": {},
   "outputs": [],
   "source": [
    "df=final_combined_dataset.select_dtypes(np.number)"
   ]
  },
  {
   "cell_type": "code",
   "execution_count": 166,
   "metadata": {},
   "outputs": [],
   "source": [
    "# Skewness"
   ]
  },
  {
   "cell_type": "code",
   "execution_count": 168,
   "metadata": {},
   "outputs": [
    {
     "name": "stdout",
     "output_type": "stream",
     "text": [
      "instant\n",
      "0.0\n"
     ]
    },
    {
     "data": {
      "text/plain": [
       "<Figure size 1400x400 with 0 Axes>"
      ]
     },
     "metadata": {},
     "output_type": "display_data"
    },
    {
     "data": {
      "image/png": "[encoded data removed]",
      "text/plain": [
       "<Figure size 500x500 with 1 Axes>"
      ]
     },
     "metadata": {},
     "output_type": "display_data"
    },
    {
     "name": "stdout",
     "output_type": "stream",
     "text": [
      "season\n",
      "nan\n"
     ]
    },
    {
     "name": "stderr",
     "output_type": "stream",
     "text": [
      "/var/folders/w7/pp471v290xqffj0zmygxzr_c0000gn/T/ipykernel_2624/481412151.py:3: RuntimeWarning: Precision loss occurred in moment calculation due to catastrophic cancellation. This occurs when the data are nearly identical. Results may be unreliable.\n",
      "  print(skew(df[cols]))\n"
     ]
    },
    {
     "data": {
      "text/plain": [
       "<Figure size 1400x400 with 0 Axes>"
      ]
     },
     "metadata": {},
     "output_type": "display_data"
    },
    {
     "data": {
      "image/png": "[encoded data removed]",
      "text/plain": [
       "<Figure size 500x500 with 1 Axes>"
      ]
     },
     "metadata": {},
     "output_type": "display_data"
    },
    {
     "name": "stdout",
     "output_type": "stream",
     "text": [
      "yr\n",
      "nan\n"
     ]
    },
    {
     "data": {
      "text/plain": [
       "<Figure size 1400x400 with 0 Axes>"
      ]
     },
     "metadata": {},
     "output_type": "display_data"
    },
    {
     "data": {
      "image/png": "[encoded data removed]",
      "text/plain": [
       "<Figure size 500x500 with 1 Axes>"
      ]
     },
     "metadata": {},
     "output_type": "display_data"
    },
    {
     "name": "stdout",
     "output_type": "stream",
     "text": [
      "mnth\n",
      "nan\n"
     ]
    },
    {
     "name": "stderr",
     "output_type": "stream",
     "text": [
      "/var/folders/w7/pp471v290xqffj0zmygxzr_c0000gn/T/ipykernel_2624/481412151.py:3: RuntimeWarning: Precision loss occurred in moment calculation due to catastrophic cancellation. This occurs when the data are nearly identical. Results may be unreliable.\n",
      "  print(skew(df[cols]))\n"
     ]
    },
    {
     "data": {
      "text/plain": [
       "<Figure size 1400x400 with 0 Axes>"
      ]
     },
     "metadata": {},
     "output_type": "display_data"
    },
    {
     "data": {
      "image/png": "[encoded data removed]",
      "text/plain": [
       "<Figure size 500x500 with 1 Axes>"
      ]
     },
     "metadata": {},
     "output_type": "display_data"
    },
    {
     "name": "stdout",
     "output_type": "stream",
     "text": [
      "hr\n",
      "-0.07188160416993893\n"
     ]
    },
    {
     "data": {
      "text/plain": [
       "<Figure size 1400x400 with 0 Axes>"
      ]
     },
     "metadata": {},
     "output_type": "display_data"
    },
    {
     "data": {
      "image/png": "[encoded data removed]",
      "text/plain": [
       "<Figure size 500x500 with 1 Axes>"
      ]
     },
     "metadata": {},
     "output_type": "display_data"
    },
    {
     "name": "stdout",
     "output_type": "stream",
     "text": [
      "weathersit\n",
      "1.0476598551382001\n"
     ]
    },
    {
     "data": {
      "text/plain": [
       "<Figure size 1400x400 with 0 Axes>"
      ]
     },
     "metadata": {},
     "output_type": "display_data"
    },
    {
     "data": {
      "image/png": "[encoded data removed]",
      "text/plain": [
       "<Figure size 500x500 with 1 Axes>"
      ]
     },
     "metadata": {},
     "output_type": "display_data"
    },
    {
     "name": "stdout",
     "output_type": "stream",
     "text": [
      "temp\n",
      "0.663450213842846\n"
     ]
    },
    {
     "data": {
      "text/plain": [
       "<Figure size 1400x400 with 0 Axes>"
      ]
     },
     "metadata": {},
     "output_type": "display_data"
    },
    {
     "data": {
      "image/png": "[encoded data removed]",
      "text/plain": [
       "<Figure size 500x500 with 1 Axes>"
      ]
     },
     "metadata": {},
     "output_type": "display_data"
    },
    {
     "name": "stdout",
     "output_type": "stream",
     "text": [
      "atemp\n",
      "0.5592726266797827\n"
     ]
    },
    {
     "data": {
      "text/plain": [
       "<Figure size 1400x400 with 0 Axes>"
      ]
     },
     "metadata": {},
     "output_type": "display_data"
    },
    {
     "data": {
      "image/png": "[encoded data removed]",
      "text/plain": [
       "<Figure size 500x500 with 1 Axes>"
      ]
     },
     "metadata": {},
     "output_type": "display_data"
    },
    {
     "name": "stdout",
     "output_type": "stream",
     "text": [
      "hum\n",
      "0.6080530012274059\n"
     ]
    },
    {
     "data": {
      "text/plain": [
       "<Figure size 1400x400 with 0 Axes>"
      ]
     },
     "metadata": {},
     "output_type": "display_data"
    },
    {
     "data": {
      "image/png": "[encoded data removed]",
      "text/plain": [
       "<Figure size 500x500 with 1 Axes>"
      ]
     },
     "metadata": {},
     "output_type": "display_data"
    },
    {
     "name": "stdout",
     "output_type": "stream",
     "text": [
      "windspeed\n",
      "0.33819512666255486\n"
     ]
    },
    {
     "data": {
      "text/plain": [
       "<Figure size 1400x400 with 0 Axes>"
      ]
     },
     "metadata": {},
     "output_type": "display_data"
    },
    {
     "data": {
      "image/png": "[encoded data removed]",
      "text/plain": [
       "<Figure size 500x500 with 1 Axes>"
      ]
     },
     "metadata": {},
     "output_type": "display_data"
    },
    {
     "name": "stdout",
     "output_type": "stream",
     "text": [
      "casual\n",
      "2.706193565216218\n"
     ]
    },
    {
     "data": {
      "text/plain": [
       "<Figure size 1400x400 with 0 Axes>"
      ]
     },
     "metadata": {},
     "output_type": "display_data"
    },
    {
     "data": {
      "image/png": "[encoded data removed]",
      "text/plain": [
       "<Figure size 500x500 with 1 Axes>"
      ]
     },
     "metadata": {},
     "output_type": "display_data"
    },
    {
     "name": "stdout",
     "output_type": "stream",
     "text": [
      "registered\n",
      "1.425358911424723\n"
     ]
    },
    {
     "data": {
      "text/plain": [
       "<Figure size 1400x400 with 0 Axes>"
      ]
     },
     "metadata": {},
     "output_type": "display_data"
    },
    {
     "data": {
      "image/png": "[encoded data removed]",
      "text/plain": [
       "<Figure size 500x500 with 1 Axes>"
      ]
     },
     "metadata": {},
     "output_type": "display_data"
    },
    {
     "name": "stdout",
     "output_type": "stream",
     "text": [
      "cnt\n",
      "1.2405025154927278\n"
     ]
    },
    {
     "data": {
      "text/plain": [
       "<Figure size 1400x400 with 0 Axes>"
      ]
     },
     "metadata": {},
     "output_type": "display_data"
    },
    {
     "data": {
      "image/png": "[encoded data removed]",
      "text/plain": [
       "<Figure size 500x500 with 1 Axes>"
      ]
     },
     "metadata": {},
     "output_type": "display_data"
    }
   ],
   "source": [
    "for cols in df:\n",
    "    print(cols)\n",
    "    print(skew(df[cols]))\n",
    "    plt.figure(figsize=(14,4))\n",
    "    sns.displot(df[cols])\n",
    "    plt.show()"
   ]
  },
  {
   "cell_type": "code",
   "execution_count": 180,
   "metadata": {},
   "outputs": [
    {
     "name": "stdout",
     "output_type": "stream",
     "text": [
      "Correlation Matrix:\n",
      "             instant  season  yr  mnth        hr  weathersit      temp  \\\n",
      "instant     1.000000     NaN NaN   NaN  0.025355    0.162506 -0.314224   \n",
      "season           NaN     NaN NaN   NaN       NaN         NaN       NaN   \n",
      "yr               NaN     NaN NaN   NaN       NaN         NaN       NaN   \n",
      "mnth             NaN     NaN NaN   NaN       NaN         NaN       NaN   \n",
      "hr          0.025355     NaN NaN   NaN  1.000000   -0.056370  0.165148   \n",
      "weathersit  0.162506     NaN NaN   NaN -0.056370    1.000000  0.224919   \n",
      "temp       -0.314224     NaN NaN   NaN  0.165148    0.224919  1.000000   \n",
      "Unnamed: 0  1.000000     NaN NaN   NaN  0.025355    0.162506 -0.314224   \n",
      "atemp      -0.271718     NaN NaN   NaN  0.111643    0.241645  0.908032   \n",
      "hum         0.045119     NaN NaN   NaN -0.184470    0.554007  0.225942   \n",
      "windspeed  -0.029262     NaN NaN   NaN  0.131075   -0.140036  0.071848   \n",
      "casual     -0.088926     NaN NaN   NaN  0.214491   -0.041982  0.438484   \n",
      "registered  0.047670     NaN NaN   NaN  0.334715   -0.141479  0.150515   \n",
      "cnt         0.034055     NaN NaN   NaN  0.346622   -0.140273  0.199701   \n",
      "\n",
      "            Unnamed: 0     atemp       hum  windspeed    casual  registered  \\\n",
      "instant       1.000000 -0.271718  0.045119  -0.029262 -0.088926    0.047670   \n",
      "season             NaN       NaN       NaN        NaN       NaN         NaN   \n",
      "yr                 NaN       NaN       NaN        NaN       NaN         NaN   \n",
      "mnth               NaN       NaN       NaN        NaN       NaN         NaN   \n",
      "hr            0.025355  0.111643 -0.184470   0.131075  0.214491    0.334715   \n",
      "weathersit    0.162506  0.241645  0.554007  -0.140036 -0.041982   -0.141479   \n",
      "temp         -0.314224  0.908032  0.225942   0.071848  0.438484    0.150515   \n",
      "Unnamed: 0    1.000000 -0.271718  0.045119  -0.029262 -0.088926    0.047670   \n",
      "atemp        -0.271718  1.000000  0.298281  -0.244217  0.388592    0.145222   \n",
      "hum           0.045119  0.298281  1.000000  -0.307205 -0.204634   -0.228278   \n",
      "windspeed    -0.029262 -0.244217 -0.307205   1.000000  0.120109    0.038115   \n",
      "casual       -0.088926  0.388592 -0.204634   0.120109  1.000000    0.304894   \n",
      "registered    0.047670  0.145222 -0.228278   0.038115  0.304894    1.000000   \n",
      "cnt           0.034055  0.188260 -0.243876   0.051733  0.418852    0.992524   \n",
      "\n",
      "                 cnt  \n",
      "instant     0.034055  \n",
      "season           NaN  \n",
      "yr               NaN  \n",
      "mnth             NaN  \n",
      "hr          0.346622  \n",
      "weathersit -0.140273  \n",
      "temp        0.199701  \n",
      "Unnamed: 0  0.034055  \n",
      "atemp       0.188260  \n",
      "hum        -0.243876  \n",
      "windspeed   0.051733  \n",
      "casual      0.418852  \n",
      "registered  0.992524  \n",
      "cnt         1.000000  \n"
     ]
    }
   ],
   "source": [
    "combined_dataset['dteday'] = pd.to_datetime(combined_dataset['dteday'], format='%d-%m-%Y')\n",
    "numeric_columns = combined_dataset.select_dtypes(include=[np.number]).columns\n",
    "combined_dataset_numeric = combined_dataset[numeric_columns]\n",
    "correlation_matrix = combined_dataset_numeric.corr()\n",
    "print('Correlation Matrix:')\n",
    "print(correlation_matrix)\n"
   ]
  },
  {
   "cell_type": "code",
   "execution_count": 184,
   "metadata": {},
   "outputs": [
    {
     "data": {
      "text/html": [
       "<div>\n",
       "<style scoped>\n",
       "    .dataframe tbody tr th:only-of-type {\n",
       "        vertical-align: middle;\n",
       "    }\n",
       "\n",
       "    .dataframe tbody tr th {\n",
       "        vertical-align: top;\n",
       "    }\n",
       "\n",
       "    .dataframe thead th {\n",
       "        text-align: right;\n",
       "    }\n",
       "</style>\n",
       "<table border=\"1\" class=\"dataframe\">\n",
       "  <thead>\n",
       "    <tr style=\"text-align: right;\">\n",
       "      <th></th>\n",
       "      <th>instant</th>\n",
       "      <th>season</th>\n",
       "      <th>yr</th>\n",
       "      <th>mnth</th>\n",
       "      <th>hr</th>\n",
       "      <th>weathersit</th>\n",
       "      <th>temp</th>\n",
       "      <th>Unnamed: 0</th>\n",
       "      <th>atemp</th>\n",
       "      <th>hum</th>\n",
       "      <th>windspeed</th>\n",
       "      <th>casual</th>\n",
       "      <th>registered</th>\n",
       "      <th>cnt</th>\n",
       "    </tr>\n",
       "  </thead>\n",
       "  <tbody>\n",
       "    <tr>\n",
       "      <th>instant</th>\n",
       "      <td>1.000000</td>\n",
       "      <td>NaN</td>\n",
       "      <td>NaN</td>\n",
       "      <td>NaN</td>\n",
       "      <td>-0.237286</td>\n",
       "      <td>0.066538</td>\n",
       "      <td>-0.850628</td>\n",
       "      <td>1.000000</td>\n",
       "      <td>-0.747783</td>\n",
       "      <td>-0.038705</td>\n",
       "      <td>-0.118962</td>\n",
       "      <td>-0.559932</td>\n",
       "      <td>-0.197445</td>\n",
       "      <td>-0.246533</td>\n",
       "    </tr>\n",
       "    <tr>\n",
       "      <th>season</th>\n",
       "      <td>NaN</td>\n",
       "      <td>NaN</td>\n",
       "      <td>NaN</td>\n",
       "      <td>NaN</td>\n",
       "      <td>NaN</td>\n",
       "      <td>NaN</td>\n",
       "      <td>NaN</td>\n",
       "      <td>NaN</td>\n",
       "      <td>NaN</td>\n",
       "      <td>NaN</td>\n",
       "      <td>NaN</td>\n",
       "      <td>NaN</td>\n",
       "      <td>NaN</td>\n",
       "      <td>NaN</td>\n",
       "    </tr>\n",
       "    <tr>\n",
       "      <th>yr</th>\n",
       "      <td>NaN</td>\n",
       "      <td>NaN</td>\n",
       "      <td>NaN</td>\n",
       "      <td>NaN</td>\n",
       "      <td>NaN</td>\n",
       "      <td>NaN</td>\n",
       "      <td>NaN</td>\n",
       "      <td>NaN</td>\n",
       "      <td>NaN</td>\n",
       "      <td>NaN</td>\n",
       "      <td>NaN</td>\n",
       "      <td>NaN</td>\n",
       "      <td>NaN</td>\n",
       "      <td>NaN</td>\n",
       "    </tr>\n",
       "    <tr>\n",
       "      <th>mnth</th>\n",
       "      <td>NaN</td>\n",
       "      <td>NaN</td>\n",
       "      <td>NaN</td>\n",
       "      <td>NaN</td>\n",
       "      <td>NaN</td>\n",
       "      <td>NaN</td>\n",
       "      <td>NaN</td>\n",
       "      <td>NaN</td>\n",
       "      <td>NaN</td>\n",
       "      <td>NaN</td>\n",
       "      <td>NaN</td>\n",
       "      <td>NaN</td>\n",
       "      <td>NaN</td>\n",
       "      <td>NaN</td>\n",
       "    </tr>\n",
       "    <tr>\n",
       "      <th>hr</th>\n",
       "      <td>-0.237286</td>\n",
       "      <td>NaN</td>\n",
       "      <td>NaN</td>\n",
       "      <td>NaN</td>\n",
       "      <td>1.000000</td>\n",
       "      <td>-0.565276</td>\n",
       "      <td>0.042537</td>\n",
       "      <td>-0.237286</td>\n",
       "      <td>-0.017405</td>\n",
       "      <td>-0.606563</td>\n",
       "      <td>0.223952</td>\n",
       "      <td>0.346623</td>\n",
       "      <td>0.522045</td>\n",
       "      <td>0.530199</td>\n",
       "    </tr>\n",
       "    <tr>\n",
       "      <th>weathersit</th>\n",
       "      <td>0.066538</td>\n",
       "      <td>NaN</td>\n",
       "      <td>NaN</td>\n",
       "      <td>NaN</td>\n",
       "      <td>-0.565276</td>\n",
       "      <td>1.000000</td>\n",
       "      <td>0.101632</td>\n",
       "      <td>0.066538</td>\n",
       "      <td>0.209888</td>\n",
       "      <td>0.850112</td>\n",
       "      <td>-0.530168</td>\n",
       "      <td>-0.475337</td>\n",
       "      <td>-0.664675</td>\n",
       "      <td>-0.678705</td>\n",
       "    </tr>\n",
       "    <tr>\n",
       "      <th>temp</th>\n",
       "      <td>-0.850628</td>\n",
       "      <td>NaN</td>\n",
       "      <td>NaN</td>\n",
       "      <td>NaN</td>\n",
       "      <td>0.042537</td>\n",
       "      <td>0.101632</td>\n",
       "      <td>1.000000</td>\n",
       "      <td>-0.850628</td>\n",
       "      <td>0.965263</td>\n",
       "      <td>0.204143</td>\n",
       "      <td>-0.166108</td>\n",
       "      <td>0.552146</td>\n",
       "      <td>0.020788</td>\n",
       "      <td>0.078865</td>\n",
       "    </tr>\n",
       "    <tr>\n",
       "      <th>Unnamed: 0</th>\n",
       "      <td>1.000000</td>\n",
       "      <td>NaN</td>\n",
       "      <td>NaN</td>\n",
       "      <td>NaN</td>\n",
       "      <td>-0.237286</td>\n",
       "      <td>0.066538</td>\n",
       "      <td>-0.850628</td>\n",
       "      <td>1.000000</td>\n",
       "      <td>-0.747783</td>\n",
       "      <td>-0.038705</td>\n",
       "      <td>-0.118962</td>\n",
       "      <td>-0.559932</td>\n",
       "      <td>-0.197445</td>\n",
       "      <td>-0.246533</td>\n",
       "    </tr>\n",
       "    <tr>\n",
       "      <th>atemp</th>\n",
       "      <td>-0.747783</td>\n",
       "      <td>NaN</td>\n",
       "      <td>NaN</td>\n",
       "      <td>NaN</td>\n",
       "      <td>-0.017405</td>\n",
       "      <td>0.209888</td>\n",
       "      <td>0.965263</td>\n",
       "      <td>-0.747783</td>\n",
       "      <td>1.000000</td>\n",
       "      <td>0.334368</td>\n",
       "      <td>-0.412946</td>\n",
       "      <td>0.484004</td>\n",
       "      <td>0.012673</td>\n",
       "      <td>0.063891</td>\n",
       "    </tr>\n",
       "    <tr>\n",
       "      <th>hum</th>\n",
       "      <td>-0.038705</td>\n",
       "      <td>NaN</td>\n",
       "      <td>NaN</td>\n",
       "      <td>NaN</td>\n",
       "      <td>-0.606563</td>\n",
       "      <td>0.850112</td>\n",
       "      <td>0.204143</td>\n",
       "      <td>-0.038705</td>\n",
       "      <td>0.334368</td>\n",
       "      <td>1.000000</td>\n",
       "      <td>-0.634341</td>\n",
       "      <td>-0.500892</td>\n",
       "      <td>-0.652984</td>\n",
       "      <td>-0.670406</td>\n",
       "    </tr>\n",
       "    <tr>\n",
       "      <th>windspeed</th>\n",
       "      <td>-0.118962</td>\n",
       "      <td>NaN</td>\n",
       "      <td>NaN</td>\n",
       "      <td>NaN</td>\n",
       "      <td>0.223952</td>\n",
       "      <td>-0.530168</td>\n",
       "      <td>-0.166108</td>\n",
       "      <td>-0.118962</td>\n",
       "      <td>-0.412946</td>\n",
       "      <td>-0.634341</td>\n",
       "      <td>1.000000</td>\n",
       "      <td>0.139033</td>\n",
       "      <td>0.077705</td>\n",
       "      <td>0.088299</td>\n",
       "    </tr>\n",
       "    <tr>\n",
       "      <th>casual</th>\n",
       "      <td>-0.559932</td>\n",
       "      <td>NaN</td>\n",
       "      <td>NaN</td>\n",
       "      <td>NaN</td>\n",
       "      <td>0.346623</td>\n",
       "      <td>-0.475337</td>\n",
       "      <td>0.552146</td>\n",
       "      <td>-0.559932</td>\n",
       "      <td>0.484004</td>\n",
       "      <td>-0.500892</td>\n",
       "      <td>0.139033</td>\n",
       "      <td>1.000000</td>\n",
       "      <td>0.476843</td>\n",
       "      <td>0.557603</td>\n",
       "    </tr>\n",
       "    <tr>\n",
       "      <th>registered</th>\n",
       "      <td>-0.197445</td>\n",
       "      <td>NaN</td>\n",
       "      <td>NaN</td>\n",
       "      <td>NaN</td>\n",
       "      <td>0.522045</td>\n",
       "      <td>-0.664675</td>\n",
       "      <td>0.020788</td>\n",
       "      <td>-0.197445</td>\n",
       "      <td>0.012673</td>\n",
       "      <td>-0.652984</td>\n",
       "      <td>0.077705</td>\n",
       "      <td>0.476843</td>\n",
       "      <td>1.000000</td>\n",
       "      <td>0.995544</td>\n",
       "    </tr>\n",
       "    <tr>\n",
       "      <th>cnt</th>\n",
       "      <td>-0.246533</td>\n",
       "      <td>NaN</td>\n",
       "      <td>NaN</td>\n",
       "      <td>NaN</td>\n",
       "      <td>0.530199</td>\n",
       "      <td>-0.678705</td>\n",
       "      <td>0.078865</td>\n",
       "      <td>-0.246533</td>\n",
       "      <td>0.063891</td>\n",
       "      <td>-0.670406</td>\n",
       "      <td>0.088299</td>\n",
       "      <td>0.557603</td>\n",
       "      <td>0.995544</td>\n",
       "      <td>1.000000</td>\n",
       "    </tr>\n",
       "  </tbody>\n",
       "</table>\n",
       "</div>"
      ],
      "text/plain": [
       "             instant  season  yr  mnth        hr  weathersit      temp  \\\n",
       "instant     1.000000     NaN NaN   NaN -0.237286    0.066538 -0.850628   \n",
       "season           NaN     NaN NaN   NaN       NaN         NaN       NaN   \n",
       "yr               NaN     NaN NaN   NaN       NaN         NaN       NaN   \n",
       "mnth             NaN     NaN NaN   NaN       NaN         NaN       NaN   \n",
       "hr         -0.237286     NaN NaN   NaN  1.000000   -0.565276  0.042537   \n",
       "weathersit  0.066538     NaN NaN   NaN -0.565276    1.000000  0.101632   \n",
       "temp       -0.850628     NaN NaN   NaN  0.042537    0.101632  1.000000   \n",
       "Unnamed: 0  1.000000     NaN NaN   NaN -0.237286    0.066538 -0.850628   \n",
       "atemp      -0.747783     NaN NaN   NaN -0.017405    0.209888  0.965263   \n",
       "hum        -0.038705     NaN NaN   NaN -0.606563    0.850112  0.204143   \n",
       "windspeed  -0.118962     NaN NaN   NaN  0.223952   -0.530168 -0.166108   \n",
       "casual     -0.559932     NaN NaN   NaN  0.346623   -0.475337  0.552146   \n",
       "registered -0.197445     NaN NaN   NaN  0.522045   -0.664675  0.020788   \n",
       "cnt        -0.246533     NaN NaN   NaN  0.530199   -0.678705  0.078865   \n",
       "\n",
       "            Unnamed: 0     atemp       hum  windspeed    casual  registered  \\\n",
       "instant       1.000000 -0.747783 -0.038705  -0.118962 -0.559932   -0.197445   \n",
       "season             NaN       NaN       NaN        NaN       NaN         NaN   \n",
       "yr                 NaN       NaN       NaN        NaN       NaN         NaN   \n",
       "mnth               NaN       NaN       NaN        NaN       NaN         NaN   \n",
       "hr           -0.237286 -0.017405 -0.606563   0.223952  0.346623    0.522045   \n",
       "weathersit    0.066538  0.209888  0.850112  -0.530168 -0.475337   -0.664675   \n",
       "temp         -0.850628  0.965263  0.204143  -0.166108  0.552146    0.020788   \n",
       "Unnamed: 0    1.000000 -0.747783 -0.038705  -0.118962 -0.559932   -0.197445   \n",
       "atemp        -0.747783  1.000000  0.334368  -0.412946  0.484004    0.012673   \n",
       "hum          -0.038705  0.334368  1.000000  -0.634341 -0.500892   -0.652984   \n",
       "windspeed    -0.118962 -0.412946 -0.634341   1.000000  0.139033    0.077705   \n",
       "casual       -0.559932  0.484004 -0.500892   0.139033  1.000000    0.476843   \n",
       "registered   -0.197445  0.012673 -0.652984   0.077705  0.476843    1.000000   \n",
       "cnt          -0.246533  0.063891 -0.670406   0.088299  0.557603    0.995544   \n",
       "\n",
       "                 cnt  \n",
       "instant    -0.246533  \n",
       "season           NaN  \n",
       "yr               NaN  \n",
       "mnth             NaN  \n",
       "hr          0.530199  \n",
       "weathersit -0.678705  \n",
       "temp        0.078865  \n",
       "Unnamed: 0 -0.246533  \n",
       "atemp       0.063891  \n",
       "hum        -0.670406  \n",
       "windspeed   0.088299  \n",
       "casual      0.557603  \n",
       "registered  0.995544  \n",
       "cnt         1.000000  "
      ]
     },
     "execution_count": 184,
     "metadata": {},
     "output_type": "execute_result"
    }
   ],
   "source": [
    "correlation_matrix.corr()"
   ]
  },
  {
   "cell_type": "code",
   "execution_count": 189,
   "metadata": {},
   "outputs": [],
   "source": [
    "columns_to_drop=['season','yr','mnth']\n",
    "correlation_matrix.drop(columns=columns_to_drop,inplace=True)"
   ]
  },
  {
   "cell_type": "code",
   "execution_count": 190,
   "metadata": {},
   "outputs": [
    {
     "data": {
      "text/plain": [
       "<Axes: >"
      ]
     },
     "execution_count": 190,
     "metadata": {},
     "output_type": "execute_result"
    },
    {
     "data": {
      "image/png": "[encoded data removed]",
      "text/plain": [
       "<Figure size 640x480 with 2 Axes>"
      ]
     },
     "metadata": {},
     "output_type": "display_data"
    }
   ],
   "source": [
    "sns.heatmap(correlation_matrix.corr(),annot=True,cmap='viridis')"
   ]
  },
  {
   "cell_type": "code",
   "execution_count": null,
   "metadata": {},
   "outputs": [],
   "source": []
  }
 ],
 "metadata": {
  "kernelspec": {
   "display_name": "Python 3",
   "language": "python",
   "name": "python3"
  },
  "language_info": {
   "codemirror_mode": {
    "name": "ipython",
    "version": 3
   },
   "file_extension": ".py",
   "mimetype": "text/x-python",
   "name": "python",
   "nbconvert_exporter": "python",
   "pygments_lexer": "ipython3",
   "version": "3.9.6"
  }
 },
 "nbformat": 4,
 "nbformat_minor": 2
}
